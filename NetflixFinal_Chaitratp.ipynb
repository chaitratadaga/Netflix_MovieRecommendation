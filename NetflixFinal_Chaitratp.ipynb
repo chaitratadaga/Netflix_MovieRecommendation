{
 "cells": [
  {
   "cell_type": "code",
   "execution_count": 2,
   "metadata": {},
   "outputs": [
    {
     "data": {
      "text/html": [
       "\n",
       "        <div>\n",
       "            <p><b>SparkContext</b></p>\n",
       "\n",
       "            <p><a href=\"http://ip-172-31-72-56.ec2.internal:4041\">Spark UI</a></p>\n",
       "\n",
       "            <dl>\n",
       "              <dt>Version</dt>\n",
       "                <dd><code>v3.0.1-amzn-0</code></dd>\n",
       "              <dt>Master</dt>\n",
       "                <dd><code>yarn</code></dd>\n",
       "              <dt>AppName</dt>\n",
       "                <dd><code>PySparkShell</code></dd>\n",
       "            </dl>\n",
       "        </div>\n",
       "        "
      ],
      "text/plain": [
       "<SparkContext master=yarn appName=PySparkShell>"
      ]
     },
     "execution_count": 2,
     "metadata": {},
     "output_type": "execute_result"
    }
   ],
   "source": [
    "sc"
   ]
  },
  {
   "cell_type": "markdown",
   "metadata": {},
   "source": [
    "# Importing the Libraries"
   ]
  },
  {
   "cell_type": "code",
   "execution_count": 114,
   "metadata": {},
   "outputs": [],
   "source": [
    "import pyspark\n",
    "\n",
    "from pyspark import SparkConf,SparkContext\n",
    "from pyspark.sql.functions import regexp_extract\n",
    "from pyspark.sql.types import *\n",
    "from pyspark.sql import SQLContext\n",
    "from pyspark.sql.types import *\n",
    "from pyspark.sql.functions import *\n",
    "from pyspark.sql.types import IntegerType\n",
    "from pyspark.sql import Window\n",
    "from pyspark.sql import DataFrameStatFunctions as statFunc\n",
    "\n",
    "\n",
    "import pandas as pd\n",
    "import numpy as np\n",
    "import ipywidgets as widgets\n",
    "from IPython.display import display, clear_output\n",
    "from contextlib import contextmanager\n",
    "import warnings\n",
    "warnings.filterwarnings('ignore')\n",
    "\n",
    "from pyspark.ml.evaluation import RegressionEvaluator\n",
    "from pyspark.ml.recommendation import ALS\n",
    "from pyspark.sql import Row"
   ]
  },
  {
   "cell_type": "markdown",
   "metadata": {},
   "source": [
    "## Creating a spark session"
   ]
  },
  {
   "cell_type": "code",
   "execution_count": 115,
   "metadata": {},
   "outputs": [],
   "source": [
    "from pyspark.sql import SparkSession\n",
    "spark = SparkSession.builder.appName('COLLABORATIVE FILTERING USING THE NETFLIX DATA').getOrCreate()"
   ]
  },
  {
   "cell_type": "markdown",
   "metadata": {},
   "source": [
    "## Creating the three dataframes for training, testing and movie data sets"
   ]
  },
  {
   "cell_type": "code",
   "execution_count": 116,
   "metadata": {},
   "outputs": [],
   "source": [
    "from pyspark.sql.types import *\n",
    "\n",
    "movies_df_schema = StructType(\n",
    "  [StructField('movieId', IntegerType()),\n",
    "   StructField('yearOfRelease', IntegerType()),\n",
    "   StructField('title', StringType())]\n",
    ")\n",
    "Training_df_schema = StructType(\n",
    "  [StructField('movieId', IntegerType()),\n",
    "   StructField('userId', IntegerType()),\n",
    "   StructField('ratings',DoubleType())]\n",
    ")\n",
    "\n",
    "Testing_df_schema = StructType(\n",
    "  [StructField('movieId', IntegerType()),\n",
    "   StructField('userId', IntegerType()),\n",
    "   StructField('ratings',DoubleType())]\n",
    ")"
   ]
  },
  {
   "cell_type": "code",
   "execution_count": 117,
   "metadata": {},
   "outputs": [],
   "source": [
    "#Creating the training,testing and movie dataframes\n",
    "\n",
    "df_training = sqlContext.read.format('txt').options(inferSchema=True).schema(Training_df_schema).csv('s3://chaitratadagadsci/Netflix/TrainingRatings.txt')\n",
    " \n",
    "df_testing = sqlContext.read.format('txt').options(inferSchema=True).schema(Testing_df_schema).csv('s3://chaitratadagadsci/Netflix/TestingRatings.txt')\n",
    " \n",
    "df_movies = sqlContext.read.format('txt').options(inferSchema=True).schema(movies_df_schema).csv('s3://chaitratadagadsci/Netflix/movie_titles.txt')"
   ]
  },
  {
   "cell_type": "code",
   "execution_count": 118,
   "metadata": {},
   "outputs": [],
   "source": [
    "#Count of each dataframes    \n",
    "training_count = df_training.count()\n",
    "testing_count = df_testing.count()\n",
    "movies_count = df_movies.count()"
   ]
  },
  {
   "cell_type": "code",
   "execution_count": 119,
   "metadata": {},
   "outputs": [
    {
     "name": "stdout",
     "output_type": "stream",
     "text": [
      "There are 3255352 samples in training set , 100478 samples in testing set and 17770 samples in movies in the datasets\n",
      "Training:\n",
      "+-------+-------+-------+\n",
      "|movieId| userId|ratings|\n",
      "+-------+-------+-------+\n",
      "|      8|1744889|    1.0|\n",
      "|      8|1395430|    2.0|\n",
      "|      8|1205593|    4.0|\n",
      "|      8|1488844|    4.0|\n",
      "|      8|1447354|    1.0|\n",
      "+-------+-------+-------+\n",
      "only showing top 5 rows\n",
      "\n",
      "Testing:\n",
      "+-------+-------+-------+\n",
      "|movieId| userId|ratings|\n",
      "+-------+-------+-------+\n",
      "|      8| 573364|    1.0|\n",
      "|      8|2149668|    3.0|\n",
      "|      8|1089184|    3.0|\n",
      "|      8|2465894|    3.0|\n",
      "|      8| 534508|    1.0|\n",
      "+-------+-------+-------+\n",
      "only showing top 5 rows\n",
      "\n",
      "Movies:\n",
      "+-------+-------------+----------------------------+\n",
      "|movieId|yearOfRelease|title                       |\n",
      "+-------+-------------+----------------------------+\n",
      "|1      |2003         |Dinosaur Planet             |\n",
      "|2      |2004         |Isle of Man TT 2004 Review  |\n",
      "|3      |1997         |Character                   |\n",
      "|4      |1994         |Paula Abdul's Get Up & Dance|\n",
      "|5      |2004         |The Rise and Fall of ECW    |\n",
      "+-------+-------------+----------------------------+\n",
      "only showing top 5 rows\n",
      "\n"
     ]
    }
   ],
   "source": [
    "#Printing the data and count\n",
    "print('There are %s samples in training set , %s samples in testing set and %s samples in movies in the datasets' % (training_count,testing_count, movies_count))\n",
    "print('Training:')\n",
    "df_training.show(5)\n",
    "print('Testing:')\n",
    "df_testing.show(5)\n",
    "print('Movies:')\n",
    "df_movies.show(5,truncate=False)"
   ]
  },
  {
   "cell_type": "code",
   "execution_count": 120,
   "metadata": {},
   "outputs": [
    {
     "name": "stdout",
     "output_type": "stream",
     "text": [
      "+-------+-------+-------+\n",
      "|movieId| userId|ratings|\n",
      "+-------+-------+-------+\n",
      "|      8|1744889|    1.0|\n",
      "|      8|1395430|    2.0|\n",
      "|      8|1205593|    4.0|\n",
      "|      8|1488844|    4.0|\n",
      "|      8|1447354|    1.0|\n",
      "|      8| 306466|    4.0|\n",
      "|      8|1331154|    4.0|\n",
      "|      8|1818178|    3.0|\n",
      "|      8| 991725|    4.0|\n",
      "|      8|1987434|    4.0|\n",
      "|      8|1765381|    4.0|\n",
      "|      8| 433803|    3.0|\n",
      "|      8|1148143|    2.0|\n",
      "|      8|1174811|    5.0|\n",
      "|      8|1684516|    3.0|\n",
      "|      8| 754781|    4.0|\n",
      "|      8| 567025|    4.0|\n",
      "|      8|1623132|    4.0|\n",
      "|      8|1567095|    3.0|\n",
      "|      8|1666394|    5.0|\n",
      "+-------+-------+-------+\n",
      "only showing top 20 rows\n",
      "\n"
     ]
    }
   ],
   "source": [
    "df_training.show()"
   ]
  },
  {
   "cell_type": "code",
   "execution_count": 121,
   "metadata": {},
   "outputs": [
    {
     "name": "stdout",
     "output_type": "stream",
     "text": [
      "+-------+-------+-------+\n",
      "|movieId| userId|ratings|\n",
      "+-------+-------+-------+\n",
      "|      8| 573364|    1.0|\n",
      "|      8|2149668|    3.0|\n",
      "|      8|1089184|    3.0|\n",
      "|      8|2465894|    3.0|\n",
      "|      8| 534508|    1.0|\n",
      "|      8| 992921|    4.0|\n",
      "|      8| 595054|    4.0|\n",
      "|      8|1298304|    4.0|\n",
      "|      8|1661600|    4.0|\n",
      "|      8| 553787|    2.0|\n",
      "|      8|1309839|    3.0|\n",
      "|      8| 727242|    1.0|\n",
      "|      8|1437668|    4.0|\n",
      "|      8|2170930|    1.0|\n",
      "|      8|1780876|    5.0|\n",
      "|      8|   9660|    3.0|\n",
      "|      8|2379200|    4.0|\n",
      "|      8| 563186|    5.0|\n",
      "|      8|1539617|    4.0|\n",
      "|      8|1656839|    1.0|\n",
      "+-------+-------+-------+\n",
      "only showing top 20 rows\n",
      "\n"
     ]
    }
   ],
   "source": [
    "df_testing.show()"
   ]
  },
  {
   "cell_type": "code",
   "execution_count": 122,
   "metadata": {},
   "outputs": [
    {
     "name": "stdout",
     "output_type": "stream",
     "text": [
      "+-------+-------------+--------------------+\n",
      "|movieId|yearOfRelease|               title|\n",
      "+-------+-------------+--------------------+\n",
      "|      1|         2003|     Dinosaur Planet|\n",
      "|      2|         2004|Isle of Man TT 20...|\n",
      "|      3|         1997|           Character|\n",
      "|      4|         1994|Paula Abdul's Get...|\n",
      "|      5|         2004|The Rise and Fall...|\n",
      "|      6|         1997|                Sick|\n",
      "|      7|         1992|               8 Man|\n",
      "|      8|         2004|What the #$*! Do ...|\n",
      "|      9|         1991|Class of Nuke 'Em...|\n",
      "|     10|         2001|             Fighter|\n",
      "|     11|         1999|Full Frame: Docum...|\n",
      "|     12|         1947|My Favorite Brunette|\n",
      "|     13|         2003|Lord of the Rings...|\n",
      "|     14|         1982|  Nature: Antarctica|\n",
      "|     15|         1988|Neil Diamond: Gre...|\n",
      "|     16|         1996|           Screamers|\n",
      "|     17|         2005|           7 Seconds|\n",
      "|     18|         1994|    Immortal Beloved|\n",
      "|     19|         2000|By Dawn's Early L...|\n",
      "|     20|         1972|     Seeta Aur Geeta|\n",
      "+-------+-------------+--------------------+\n",
      "only showing top 20 rows\n",
      "\n"
     ]
    }
   ],
   "source": [
    "df_movies.show()"
   ]
  },
  {
   "cell_type": "code",
   "execution_count": 41,
   "metadata": {},
   "outputs": [
    {
     "name": "stdout",
     "output_type": "stream",
     "text": [
      "movie_ids_with_avg_ratings_df:\n",
      "+-------+-----+-----------------+\n",
      "|movieId|count|average          |\n",
      "+-------+-----+-----------------+\n",
      "|2366   |47   |2.851063829787234|\n",
      "|11317  |35   |3.085714285714286|\n",
      "|13289  |1    |4.0              |\n",
      "+-------+-----+-----------------+\n",
      "only showing top 3 rows\n",
      "\n",
      "movie_names_with_avg_ratings_df:\n",
      "+-------+-------------------------+-----+-------+\n",
      "|average|title                    |count|movieId|\n",
      "+-------+-------------------------+-----+-------+\n",
      "|5.0    |Dragnet                  |3    |13965  |\n",
      "|5.0    |Vanished                 |1    |12705  |\n",
      "|5.0    |Working with Orson Welles|1    |9930   |\n",
      "+-------+-------------------------+-----+-------+\n",
      "only showing top 3 rows\n",
      "\n"
     ]
    }
   ],
   "source": [
    "from pyspark.sql import functions as F\n",
    "\n",
    "\n",
    "movie_ids_with_avg_ratings_df = df_testing.groupBy('movieId').agg(F.count(df_testing.ratings).alias(\"count\"), F.avg(df_testing.ratings).alias(\"average\"))\n",
    "print ('movie_ids_with_avg_ratings_df:')\n",
    "movie_ids_with_avg_ratings_df.show(3, truncate=False)\n",
    "\n",
    "movie_names_df = movie_ids_with_avg_ratings_df.join(df_movies, movie_ids_with_avg_ratings_df.movieId == df_movies.ID)\n",
    "movie_names_with_avg_ratings_df = (movie_names_df.select(movie_names_df[\"average\"], movie_names_df[\"title\"], movie_names_df[\"count\"], movie_names_df[\"movieId\"])).orderBy([\"average\"], ascending = 0)\n",
    "\n",
    "\n",
    "print ('movie_names_with_avg_ratings_df:')\n",
    "movie_names_with_avg_ratings_df.show(3, truncate=False)"
   ]
  },
  {
   "cell_type": "code",
   "execution_count": 42,
   "metadata": {},
   "outputs": [
    {
     "name": "stdout",
     "output_type": "stream",
     "text": [
      "Movies with highest ratings:\n",
      "+------------------+--------------------------------+-----+-------+\n",
      "|average           |title                           |count|movieId|\n",
      "+------------------+--------------------------------+-----+-------+\n",
      "|4.4535073409461665|The Godfather                   |613  |12293  |\n",
      "|4.354838709677419 |The Incredibles                 |620  |10947  |\n",
      "|4.336330935251799 |The Godfather                   |556  |3290   |\n",
      "|4.123304562268804 |Ferris Bueller's Day Off        |811  |6971   |\n",
      "|4.091172214182344 |Seven                           |691  |8596   |\n",
      "|4.00990099009901  |Finding Neverland               |505  |2913   |\n",
      "|4.0071942446043165|Terminator 2: Extreme Edition   |695  |8915   |\n",
      "|4.006613756613756 |Rain Man                        |756  |4640   |\n",
      "|3.9323671497584543|When Harry Met Sally            |621  |2660   |\n",
      "|3.9323181049069373|Office Space                    |591  |13614  |\n",
      "|3.876470588235294 |Good Morning                    |680  |6408   |\n",
      "|3.868627450980392 |The Lost Boys: Special Edition  |510  |13015  |\n",
      "|3.8664192949907235|Fast Times at Ridgemont High    |539  |13636  |\n",
      "|3.8073654390934846|As Good as It Gets              |706  |9728   |\n",
      "|3.752307692307692 |Beverly Hills Cop               |650  |1744   |\n",
      "|3.716486902927581 |National Lampoon's Vacation     |649  |1202   |\n",
      "|3.716417910447761 |Pretty Woman                    |737  |6287   |\n",
      "|3.6785079928952045|Thelma & Louise: Special Edition|563  |12778  |\n",
      "|3.6748554913294798|The Italian Job                 |692  |4432   |\n",
      "|3.625             |Old School                      |584  |16707  |\n",
      "+------------------+--------------------------------+-----+-------+\n",
      "only showing top 20 rows\n",
      "\n"
     ]
    }
   ],
   "source": [
    "movies_with_500_ratings_or_more = movie_names_with_avg_ratings_df.filter(\"count >= 500\")\n",
    "print ('Movies with highest ratings:')\n",
    "movies_with_500_ratings_or_more.show(20, truncate=False)"
   ]
  },
  {
   "cell_type": "code",
   "execution_count": 43,
   "metadata": {},
   "outputs": [
    {
     "name": "stdout",
     "output_type": "stream",
     "text": [
      "Training: 1953267, validation: 651277, test: 650808\n",
      "\n",
      "+-------+------+-------+\n",
      "|movieId|userId|ratings|\n",
      "+-------+------+-------+\n",
      "|      8|  1333|    3.0|\n",
      "|      8|  4706|    5.0|\n",
      "|      8|  5652|    3.0|\n",
      "+-------+------+-------+\n",
      "only showing top 3 rows\n",
      "\n",
      "+-------+------+-------+\n",
      "|movieId|userId|ratings|\n",
      "+-------+------+-------+\n",
      "|      8|  3363|    2.0|\n",
      "|      8|  6460|    5.0|\n",
      "|      8|  9321|    3.0|\n",
      "+-------+------+-------+\n",
      "only showing top 3 rows\n",
      "\n",
      "+-------+------+-------+\n",
      "|movieId|userId|ratings|\n",
      "+-------+------+-------+\n",
      "|      8|     7|    5.0|\n",
      "|      8|  3321|    1.0|\n",
      "|      8|  3604|    3.0|\n",
      "+-------+------+-------+\n",
      "only showing top 3 rows\n",
      "\n"
     ]
    }
   ],
   "source": [
    "seed = 1800009193\n",
    "(split_60_df, split_a_20_df, split_b_20_df) = df_training.randomSplit([6.0, 2.0, 2.0], seed)\n",
    "\n",
    "# Let's cache these datasets for performance\n",
    "training_df = split_60_df.cache()\n",
    "validation_df = split_a_20_df.cache()\n",
    "test_df = split_b_20_df.cache()\n",
    "\n",
    "print('Training: {0}, validation: {1}, test: {2}\\n'.format(\n",
    "  training_df.count(), validation_df.count(), test_df.count())\n",
    ")\n",
    "training_df.show(3)\n",
    "validation_df.show(3)\n",
    "test_df.show(3)"
   ]
  },
  {
   "cell_type": "markdown",
   "metadata": {},
   "source": [
    "## HOW MANY DISTINCT USERS AND DISTINCT ITEMS ARE THERE IN THE TEST SET ?"
   ]
  },
  {
   "cell_type": "code",
   "execution_count": 123,
   "metadata": {},
   "outputs": [
    {
     "name": "stdout",
     "output_type": "stream",
     "text": [
      "The distinct items in testing set are : 1701\n",
      "The distinct users in testing set are : 27555\n"
     ]
    }
   ],
   "source": [
    "#finding out the distinct users and items/movies in the testing set\n",
    "\n",
    "print(\"The distinct items in testing set are :\",df_testing.select('movieID').distinct().count())\n",
    "print(\"The distinct users in testing set are :\",df_testing.select('userID').distinct().count())\n"
   ]
  },
  {
   "cell_type": "code",
   "execution_count": 124,
   "metadata": {},
   "outputs": [
    {
     "name": "stdout",
     "output_type": "stream",
     "text": [
      "The distinct items in training set are : 1821\n",
      "The distinct users in training set are : 28978\n"
     ]
    }
   ],
   "source": [
    "#finding out the distinct users and items(movies) in the training set \n",
    "\n",
    "print(\"The distinct items in training set are :\",df_training.select('movieID').distinct().count())\n",
    "print(\"The distinct users in training set are :\",df_training.select('userID').distinct().count())"
   ]
  },
  {
   "cell_type": "markdown",
   "metadata": {},
   "source": [
    "# Finding Overall Rates for Users and Movies in both the sets \n",
    "\n",
    "## Some Initial analysis on training and testing sets "
   ]
  },
  {
   "cell_type": "code",
   "execution_count": 125,
   "metadata": {},
   "outputs": [],
   "source": [
    "#lets convert to a Pandas Dataframe \n",
    "\n",
    "pd_training = df_training.toPandas()\n",
    "\n",
    "pd_testing = df_testing.toPandas()\n"
   ]
  },
  {
   "cell_type": "code",
   "execution_count": 126,
   "metadata": {},
   "outputs": [
    {
     "data": {
      "text/html": [
       "<div>\n",
       "<style scoped>\n",
       "    .dataframe tbody tr th:only-of-type {\n",
       "        vertical-align: middle;\n",
       "    }\n",
       "\n",
       "    .dataframe tbody tr th {\n",
       "        vertical-align: top;\n",
       "    }\n",
       "\n",
       "    .dataframe thead th {\n",
       "        text-align: right;\n",
       "    }\n",
       "</style>\n",
       "<table border=\"1\" class=\"dataframe\">\n",
       "  <thead>\n",
       "    <tr style=\"text-align: right;\">\n",
       "      <th></th>\n",
       "      <th>movieId</th>\n",
       "      <th>userId</th>\n",
       "      <th>ratings</th>\n",
       "    </tr>\n",
       "  </thead>\n",
       "  <tbody>\n",
       "    <tr>\n",
       "      <th>count</th>\n",
       "      <td>3.255352e+06</td>\n",
       "      <td>3.255352e+06</td>\n",
       "      <td>3.255352e+06</td>\n",
       "    </tr>\n",
       "    <tr>\n",
       "      <th>mean</th>\n",
       "      <td>8.724660e+03</td>\n",
       "      <td>1.327058e+06</td>\n",
       "      <td>3.481188e+00</td>\n",
       "    </tr>\n",
       "    <tr>\n",
       "      <th>std</th>\n",
       "      <td>5.107402e+03</td>\n",
       "      <td>7.626887e+05</td>\n",
       "      <td>1.082873e+00</td>\n",
       "    </tr>\n",
       "    <tr>\n",
       "      <th>min</th>\n",
       "      <td>8.000000e+00</td>\n",
       "      <td>7.000000e+00</td>\n",
       "      <td>1.000000e+00</td>\n",
       "    </tr>\n",
       "    <tr>\n",
       "      <th>25%</th>\n",
       "      <td>3.893000e+03</td>\n",
       "      <td>6.716970e+05</td>\n",
       "      <td>3.000000e+00</td>\n",
       "    </tr>\n",
       "    <tr>\n",
       "      <th>50%</th>\n",
       "      <td>8.825000e+03</td>\n",
       "      <td>1.322467e+06</td>\n",
       "      <td>4.000000e+00</td>\n",
       "    </tr>\n",
       "    <tr>\n",
       "      <th>75%</th>\n",
       "      <td>1.332600e+04</td>\n",
       "      <td>1.988873e+06</td>\n",
       "      <td>4.000000e+00</td>\n",
       "    </tr>\n",
       "    <tr>\n",
       "      <th>max</th>\n",
       "      <td>1.774200e+04</td>\n",
       "      <td>2.649285e+06</td>\n",
       "      <td>5.000000e+00</td>\n",
       "    </tr>\n",
       "  </tbody>\n",
       "</table>\n",
       "</div>"
      ],
      "text/plain": [
       "            movieId        userId       ratings\n",
       "count  3.255352e+06  3.255352e+06  3.255352e+06\n",
       "mean   8.724660e+03  1.327058e+06  3.481188e+00\n",
       "std    5.107402e+03  7.626887e+05  1.082873e+00\n",
       "min    8.000000e+00  7.000000e+00  1.000000e+00\n",
       "25%    3.893000e+03  6.716970e+05  3.000000e+00\n",
       "50%    8.825000e+03  1.322467e+06  4.000000e+00\n",
       "75%    1.332600e+04  1.988873e+06  4.000000e+00\n",
       "max    1.774200e+04  2.649285e+06  5.000000e+00"
      ]
     },
     "execution_count": 126,
     "metadata": {},
     "output_type": "execute_result"
    }
   ],
   "source": [
    "#descrivbing the training dataset \n",
    "\n",
    "pd_training.describe()"
   ]
  },
  {
   "cell_type": "code",
   "execution_count": 127,
   "metadata": {},
   "outputs": [
    {
     "data": {
      "text/html": [
       "<div>\n",
       "<style scoped>\n",
       "    .dataframe tbody tr th:only-of-type {\n",
       "        vertical-align: middle;\n",
       "    }\n",
       "\n",
       "    .dataframe tbody tr th {\n",
       "        vertical-align: top;\n",
       "    }\n",
       "\n",
       "    .dataframe thead th {\n",
       "        text-align: right;\n",
       "    }\n",
       "</style>\n",
       "<table border=\"1\" class=\"dataframe\">\n",
       "  <thead>\n",
       "    <tr style=\"text-align: right;\">\n",
       "      <th></th>\n",
       "      <th>movieId</th>\n",
       "      <th>userId</th>\n",
       "      <th>ratings</th>\n",
       "    </tr>\n",
       "  </thead>\n",
       "  <tbody>\n",
       "    <tr>\n",
       "      <th>count</th>\n",
       "      <td>100478.000000</td>\n",
       "      <td>1.004780e+05</td>\n",
       "      <td>100478.000000</td>\n",
       "    </tr>\n",
       "    <tr>\n",
       "      <th>mean</th>\n",
       "      <td>8701.547792</td>\n",
       "      <td>1.329956e+06</td>\n",
       "      <td>3.479458</td>\n",
       "    </tr>\n",
       "    <tr>\n",
       "      <th>std</th>\n",
       "      <td>5098.075495</td>\n",
       "      <td>7.625041e+05</td>\n",
       "      <td>1.085280</td>\n",
       "    </tr>\n",
       "    <tr>\n",
       "      <th>min</th>\n",
       "      <td>8.000000</td>\n",
       "      <td>7.000000e+00</td>\n",
       "      <td>1.000000</td>\n",
       "    </tr>\n",
       "    <tr>\n",
       "      <th>25%</th>\n",
       "      <td>3893.000000</td>\n",
       "      <td>6.774300e+05</td>\n",
       "      <td>3.000000</td>\n",
       "    </tr>\n",
       "    <tr>\n",
       "      <th>50%</th>\n",
       "      <td>8699.000000</td>\n",
       "      <td>1.325031e+06</td>\n",
       "      <td>4.000000</td>\n",
       "    </tr>\n",
       "    <tr>\n",
       "      <th>75%</th>\n",
       "      <td>13298.000000</td>\n",
       "      <td>1.995052e+06</td>\n",
       "      <td>4.000000</td>\n",
       "    </tr>\n",
       "    <tr>\n",
       "      <th>max</th>\n",
       "      <td>17742.000000</td>\n",
       "      <td>2.649285e+06</td>\n",
       "      <td>5.000000</td>\n",
       "    </tr>\n",
       "  </tbody>\n",
       "</table>\n",
       "</div>"
      ],
      "text/plain": [
       "             movieId        userId        ratings\n",
       "count  100478.000000  1.004780e+05  100478.000000\n",
       "mean     8701.547792  1.329956e+06       3.479458\n",
       "std      5098.075495  7.625041e+05       1.085280\n",
       "min         8.000000  7.000000e+00       1.000000\n",
       "25%      3893.000000  6.774300e+05       3.000000\n",
       "50%      8699.000000  1.325031e+06       4.000000\n",
       "75%     13298.000000  1.995052e+06       4.000000\n",
       "max     17742.000000  2.649285e+06       5.000000"
      ]
     },
     "execution_count": 127,
     "metadata": {},
     "output_type": "execute_result"
    }
   ],
   "source": [
    "pd_testing.describe()"
   ]
  },
  {
   "cell_type": "code",
   "execution_count": 128,
   "metadata": {},
   "outputs": [
    {
     "data": {
      "text/html": [
       "<div>\n",
       "<style scoped>\n",
       "    .dataframe tbody tr th:only-of-type {\n",
       "        vertical-align: middle;\n",
       "    }\n",
       "\n",
       "    .dataframe tbody tr th {\n",
       "        vertical-align: top;\n",
       "    }\n",
       "\n",
       "    .dataframe thead th {\n",
       "        text-align: right;\n",
       "    }\n",
       "</style>\n",
       "<table border=\"1\" class=\"dataframe\">\n",
       "  <thead>\n",
       "    <tr style=\"text-align: right;\">\n",
       "      <th></th>\n",
       "      <th>movieId</th>\n",
       "      <th>userId</th>\n",
       "      <th>ratings</th>\n",
       "    </tr>\n",
       "  </thead>\n",
       "  <tbody>\n",
       "    <tr>\n",
       "      <th>3255347</th>\n",
       "      <td>17742</td>\n",
       "      <td>46222</td>\n",
       "      <td>3.0</td>\n",
       "    </tr>\n",
       "    <tr>\n",
       "      <th>3255348</th>\n",
       "      <td>17742</td>\n",
       "      <td>2534701</td>\n",
       "      <td>1.0</td>\n",
       "    </tr>\n",
       "    <tr>\n",
       "      <th>3255349</th>\n",
       "      <td>17742</td>\n",
       "      <td>208724</td>\n",
       "      <td>3.0</td>\n",
       "    </tr>\n",
       "    <tr>\n",
       "      <th>3255350</th>\n",
       "      <td>17742</td>\n",
       "      <td>483107</td>\n",
       "      <td>2.0</td>\n",
       "    </tr>\n",
       "    <tr>\n",
       "      <th>3255351</th>\n",
       "      <td>17742</td>\n",
       "      <td>1181331</td>\n",
       "      <td>2.0</td>\n",
       "    </tr>\n",
       "  </tbody>\n",
       "</table>\n",
       "</div>"
      ],
      "text/plain": [
       "         movieId   userId  ratings\n",
       "3255347    17742    46222      3.0\n",
       "3255348    17742  2534701      1.0\n",
       "3255349    17742   208724      3.0\n",
       "3255350    17742   483107      2.0\n",
       "3255351    17742  1181331      2.0"
      ]
     },
     "execution_count": 128,
     "metadata": {},
     "output_type": "execute_result"
    }
   ],
   "source": [
    "pd_training.tail()"
   ]
  },
  {
   "cell_type": "code",
   "execution_count": 129,
   "metadata": {},
   "outputs": [
    {
     "data": {
      "text/html": [
       "<div>\n",
       "<style scoped>\n",
       "    .dataframe tbody tr th:only-of-type {\n",
       "        vertical-align: middle;\n",
       "    }\n",
       "\n",
       "    .dataframe tbody tr th {\n",
       "        vertical-align: top;\n",
       "    }\n",
       "\n",
       "    .dataframe thead th {\n",
       "        text-align: right;\n",
       "    }\n",
       "</style>\n",
       "<table border=\"1\" class=\"dataframe\">\n",
       "  <thead>\n",
       "    <tr style=\"text-align: right;\">\n",
       "      <th></th>\n",
       "      <th>movieId</th>\n",
       "      <th>userId</th>\n",
       "      <th>ratings</th>\n",
       "    </tr>\n",
       "  </thead>\n",
       "  <tbody>\n",
       "    <tr>\n",
       "      <th>100473</th>\n",
       "      <td>17742</td>\n",
       "      <td>1898310</td>\n",
       "      <td>2.0</td>\n",
       "    </tr>\n",
       "    <tr>\n",
       "      <th>100474</th>\n",
       "      <td>17742</td>\n",
       "      <td>716096</td>\n",
       "      <td>4.0</td>\n",
       "    </tr>\n",
       "    <tr>\n",
       "      <th>100475</th>\n",
       "      <td>17742</td>\n",
       "      <td>38115</td>\n",
       "      <td>3.0</td>\n",
       "    </tr>\n",
       "    <tr>\n",
       "      <th>100476</th>\n",
       "      <td>17742</td>\n",
       "      <td>2646347</td>\n",
       "      <td>5.0</td>\n",
       "    </tr>\n",
       "    <tr>\n",
       "      <th>100477</th>\n",
       "      <td>17742</td>\n",
       "      <td>273576</td>\n",
       "      <td>2.0</td>\n",
       "    </tr>\n",
       "  </tbody>\n",
       "</table>\n",
       "</div>"
      ],
      "text/plain": [
       "        movieId   userId  ratings\n",
       "100473    17742  1898310      2.0\n",
       "100474    17742   716096      4.0\n",
       "100475    17742    38115      3.0\n",
       "100476    17742  2646347      5.0\n",
       "100477    17742   273576      2.0"
      ]
     },
     "execution_count": 129,
     "metadata": {},
     "output_type": "execute_result"
    }
   ],
   "source": [
    "pd_testing.tail()"
   ]
  },
  {
   "cell_type": "markdown",
   "metadata": {},
   "source": [
    "## Testing for null values in both the sets"
   ]
  },
  {
   "cell_type": "code",
   "execution_count": 130,
   "metadata": {},
   "outputs": [
    {
     "data": {
      "text/plain": [
       "movieId    0\n",
       "userId     0\n",
       "ratings    0\n",
       "dtype: int64"
      ]
     },
     "execution_count": 130,
     "metadata": {},
     "output_type": "execute_result"
    }
   ],
   "source": [
    "pd_training.isnull().sum()"
   ]
  },
  {
   "cell_type": "code",
   "execution_count": 131,
   "metadata": {},
   "outputs": [
    {
     "data": {
      "text/plain": [
       "movieId    0\n",
       "userId     0\n",
       "ratings    0\n",
       "dtype: int64"
      ]
     },
     "execution_count": 131,
     "metadata": {},
     "output_type": "execute_result"
    }
   ],
   "source": [
    "pd_testing.isnull().sum()"
   ]
  },
  {
   "cell_type": "code",
   "execution_count": 132,
   "metadata": {},
   "outputs": [
    {
     "name": "stdout",
     "output_type": "stream",
     "text": [
      "The counts of both the dataframes are  Training dataset ==>  3255352 Testing dataset ==> 100478\n"
     ]
    }
   ],
   "source": [
    "print(\"The counts of both the dataframes are \",\"Training dataset ==> \",len(pd_training),\"Testing dataset ==>\",len(pd_testing))"
   ]
  },
  {
   "cell_type": "markdown",
   "metadata": {},
   "source": [
    "# Average Movie Ratings"
   ]
  },
  {
   "cell_type": "code",
   "execution_count": 133,
   "metadata": {},
   "outputs": [
    {
     "data": {
      "text/html": [
       "<div>\n",
       "<style scoped>\n",
       "    .dataframe tbody tr th:only-of-type {\n",
       "        vertical-align: middle;\n",
       "    }\n",
       "\n",
       "    .dataframe tbody tr th {\n",
       "        vertical-align: top;\n",
       "    }\n",
       "\n",
       "    .dataframe thead th {\n",
       "        text-align: right;\n",
       "    }\n",
       "</style>\n",
       "<table border=\"1\" class=\"dataframe\">\n",
       "  <thead>\n",
       "    <tr style=\"text-align: right;\">\n",
       "      <th></th>\n",
       "      <th>ratings</th>\n",
       "      <th>counts</th>\n",
       "    </tr>\n",
       "    <tr>\n",
       "      <th>movieId</th>\n",
       "      <th></th>\n",
       "      <th></th>\n",
       "    </tr>\n",
       "  </thead>\n",
       "  <tbody>\n",
       "    <tr>\n",
       "      <th>8</th>\n",
       "      <td>3.055104</td>\n",
       "      <td>2831</td>\n",
       "    </tr>\n",
       "    <tr>\n",
       "      <th>28</th>\n",
       "      <td>3.760127</td>\n",
       "      <td>12244</td>\n",
       "    </tr>\n",
       "    <tr>\n",
       "      <th>43</th>\n",
       "      <td>2.310345</td>\n",
       "      <td>58</td>\n",
       "    </tr>\n",
       "    <tr>\n",
       "      <th>48</th>\n",
       "      <td>3.620648</td>\n",
       "      <td>1666</td>\n",
       "    </tr>\n",
       "    <tr>\n",
       "      <th>61</th>\n",
       "      <td>2.385965</td>\n",
       "      <td>57</td>\n",
       "    </tr>\n",
       "  </tbody>\n",
       "</table>\n",
       "</div>"
      ],
      "text/plain": [
       "          ratings  counts\n",
       "movieId                  \n",
       "8        3.055104    2831\n",
       "28       3.760127   12244\n",
       "43       2.310345      58\n",
       "48       3.620648    1666\n",
       "61       2.385965      57"
      ]
     },
     "execution_count": 133,
     "metadata": {},
     "output_type": "execute_result"
    }
   ],
   "source": [
    "#checking overall average rate of the movies with their counts  in the training set\n",
    "\n",
    "averageMovieRatingsTraining = pd.DataFrame(pd_training.groupby('movieId')['ratings'].mean())\n",
    "\n",
    "averageMovieRatingsTraining['counts'] =pd.DataFrame(pd_training.groupby('movieId')['ratings'].count())\n",
    "\n",
    "averageMovieRatingsTraining.head()"
   ]
  },
  {
   "cell_type": "code",
   "execution_count": 134,
   "metadata": {},
   "outputs": [
    {
     "data": {
      "text/html": [
       "<div>\n",
       "<style scoped>\n",
       "    .dataframe tbody tr th:only-of-type {\n",
       "        vertical-align: middle;\n",
       "    }\n",
       "\n",
       "    .dataframe tbody tr th {\n",
       "        vertical-align: top;\n",
       "    }\n",
       "\n",
       "    .dataframe thead th {\n",
       "        text-align: right;\n",
       "    }\n",
       "</style>\n",
       "<table border=\"1\" class=\"dataframe\">\n",
       "  <thead>\n",
       "    <tr style=\"text-align: right;\">\n",
       "      <th></th>\n",
       "      <th>ratings</th>\n",
       "      <th>counts</th>\n",
       "    </tr>\n",
       "    <tr>\n",
       "      <th>movieId</th>\n",
       "      <th></th>\n",
       "      <th></th>\n",
       "    </tr>\n",
       "  </thead>\n",
       "  <tbody>\n",
       "    <tr>\n",
       "      <th>8</th>\n",
       "      <td>3.072917</td>\n",
       "      <td>96</td>\n",
       "    </tr>\n",
       "    <tr>\n",
       "      <th>28</th>\n",
       "      <td>3.698667</td>\n",
       "      <td>375</td>\n",
       "    </tr>\n",
       "    <tr>\n",
       "      <th>43</th>\n",
       "      <td>4.000000</td>\n",
       "      <td>1</td>\n",
       "    </tr>\n",
       "    <tr>\n",
       "      <th>48</th>\n",
       "      <td>3.622642</td>\n",
       "      <td>53</td>\n",
       "    </tr>\n",
       "    <tr>\n",
       "      <th>61</th>\n",
       "      <td>4.000000</td>\n",
       "      <td>3</td>\n",
       "    </tr>\n",
       "  </tbody>\n",
       "</table>\n",
       "</div>"
      ],
      "text/plain": [
       "          ratings  counts\n",
       "movieId                  \n",
       "8        3.072917      96\n",
       "28       3.698667     375\n",
       "43       4.000000       1\n",
       "48       3.622642      53\n",
       "61       4.000000       3"
      ]
     },
     "execution_count": 134,
     "metadata": {},
     "output_type": "execute_result"
    }
   ],
   "source": [
    "#checking overall average rate of the movies with their counts  in the testing set\n",
    "\n",
    "averageMovieRatingsTesting = pd.DataFrame(pd_testing.groupby('movieId')['ratings'].mean())\n",
    "\n",
    "averageMovieRatingsTesting['counts'] =pd.DataFrame(pd_testing.groupby('movieId')['ratings'].count())\n",
    "\n",
    "averageMovieRatingsTesting.head()"
   ]
  },
  {
   "cell_type": "code",
   "execution_count": 135,
   "metadata": {},
   "outputs": [
    {
     "data": {
      "text/html": [
       "<div>\n",
       "<style scoped>\n",
       "    .dataframe tbody tr th:only-of-type {\n",
       "        vertical-align: middle;\n",
       "    }\n",
       "\n",
       "    .dataframe tbody tr th {\n",
       "        vertical-align: top;\n",
       "    }\n",
       "\n",
       "    .dataframe thead th {\n",
       "        text-align: right;\n",
       "    }\n",
       "</style>\n",
       "<table border=\"1\" class=\"dataframe\">\n",
       "  <thead>\n",
       "    <tr style=\"text-align: right;\">\n",
       "      <th></th>\n",
       "      <th>ratings</th>\n",
       "      <th>counts</th>\n",
       "    </tr>\n",
       "    <tr>\n",
       "      <th>movieId</th>\n",
       "      <th></th>\n",
       "      <th></th>\n",
       "    </tr>\n",
       "  </thead>\n",
       "  <tbody>\n",
       "    <tr>\n",
       "      <th>6971</th>\n",
       "      <td>4.123305</td>\n",
       "      <td>811</td>\n",
       "    </tr>\n",
       "    <tr>\n",
       "      <th>4640</th>\n",
       "      <td>4.006614</td>\n",
       "      <td>756</td>\n",
       "    </tr>\n",
       "    <tr>\n",
       "      <th>6287</th>\n",
       "      <td>3.716418</td>\n",
       "      <td>737</td>\n",
       "    </tr>\n",
       "    <tr>\n",
       "      <th>9728</th>\n",
       "      <td>3.807365</td>\n",
       "      <td>706</td>\n",
       "    </tr>\n",
       "    <tr>\n",
       "      <th>8915</th>\n",
       "      <td>4.007194</td>\n",
       "      <td>695</td>\n",
       "    </tr>\n",
       "    <tr>\n",
       "      <th>4432</th>\n",
       "      <td>3.674855</td>\n",
       "      <td>692</td>\n",
       "    </tr>\n",
       "    <tr>\n",
       "      <th>8596</th>\n",
       "      <td>4.091172</td>\n",
       "      <td>691</td>\n",
       "    </tr>\n",
       "    <tr>\n",
       "      <th>6408</th>\n",
       "      <td>3.876471</td>\n",
       "      <td>680</td>\n",
       "    </tr>\n",
       "    <tr>\n",
       "      <th>1406</th>\n",
       "      <td>3.233129</td>\n",
       "      <td>652</td>\n",
       "    </tr>\n",
       "    <tr>\n",
       "      <th>1744</th>\n",
       "      <td>3.752308</td>\n",
       "      <td>650</td>\n",
       "    </tr>\n",
       "  </tbody>\n",
       "</table>\n",
       "</div>"
      ],
      "text/plain": [
       "          ratings  counts\n",
       "movieId                  \n",
       "6971     4.123305     811\n",
       "4640     4.006614     756\n",
       "6287     3.716418     737\n",
       "9728     3.807365     706\n",
       "8915     4.007194     695\n",
       "4432     3.674855     692\n",
       "8596     4.091172     691\n",
       "6408     3.876471     680\n",
       "1406     3.233129     652\n",
       "1744     3.752308     650"
      ]
     },
     "execution_count": 135,
     "metadata": {},
     "output_type": "execute_result"
    }
   ],
   "source": [
    "averageMovieRatingsTesting.sort_values(by=['counts'],ascending=False).head(10)"
   ]
  },
  {
   "cell_type": "markdown",
   "metadata": {},
   "source": [
    "# Average User Ratings"
   ]
  },
  {
   "cell_type": "code",
   "execution_count": 136,
   "metadata": {},
   "outputs": [
    {
     "data": {
      "text/html": [
       "<div>\n",
       "<style scoped>\n",
       "    .dataframe tbody tr th:only-of-type {\n",
       "        vertical-align: middle;\n",
       "    }\n",
       "\n",
       "    .dataframe tbody tr th {\n",
       "        vertical-align: top;\n",
       "    }\n",
       "\n",
       "    .dataframe thead th {\n",
       "        text-align: right;\n",
       "    }\n",
       "</style>\n",
       "<table border=\"1\" class=\"dataframe\">\n",
       "  <thead>\n",
       "    <tr style=\"text-align: right;\">\n",
       "      <th></th>\n",
       "      <th>ratings</th>\n",
       "      <th>counts</th>\n",
       "    </tr>\n",
       "    <tr>\n",
       "      <th>userId</th>\n",
       "      <th></th>\n",
       "      <th></th>\n",
       "    </tr>\n",
       "  </thead>\n",
       "  <tbody>\n",
       "    <tr>\n",
       "      <th>7</th>\n",
       "      <td>3.903846</td>\n",
       "      <td>104</td>\n",
       "    </tr>\n",
       "    <tr>\n",
       "      <th>79</th>\n",
       "      <td>3.630952</td>\n",
       "      <td>84</td>\n",
       "    </tr>\n",
       "    <tr>\n",
       "      <th>199</th>\n",
       "      <td>3.943662</td>\n",
       "      <td>71</td>\n",
       "    </tr>\n",
       "    <tr>\n",
       "      <th>481</th>\n",
       "      <td>4.351351</td>\n",
       "      <td>74</td>\n",
       "    </tr>\n",
       "    <tr>\n",
       "      <th>769</th>\n",
       "      <td>3.193878</td>\n",
       "      <td>98</td>\n",
       "    </tr>\n",
       "  </tbody>\n",
       "</table>\n",
       "</div>"
      ],
      "text/plain": [
       "         ratings  counts\n",
       "userId                  \n",
       "7       3.903846     104\n",
       "79      3.630952      84\n",
       "199     3.943662      71\n",
       "481     4.351351      74\n",
       "769     3.193878      98"
      ]
     },
     "execution_count": 136,
     "metadata": {},
     "output_type": "execute_result"
    }
   ],
   "source": [
    "#checking overall average rate of the user with their counts  in the training set\n",
    "\n",
    "averageUserRatingsTraining = pd.DataFrame(pd_training.groupby('userId')['ratings'].mean())\n",
    "\n",
    "averageUserRatingsTraining['counts'] =pd.DataFrame(pd_training.groupby('userId')['ratings'].count())\n",
    "\n",
    "averageUserRatingsTraining.head()"
   ]
  },
  {
   "cell_type": "code",
   "execution_count": 137,
   "metadata": {},
   "outputs": [
    {
     "data": {
      "text/html": [
       "<div>\n",
       "<style scoped>\n",
       "    .dataframe tbody tr th:only-of-type {\n",
       "        vertical-align: middle;\n",
       "    }\n",
       "\n",
       "    .dataframe tbody tr th {\n",
       "        vertical-align: top;\n",
       "    }\n",
       "\n",
       "    .dataframe thead th {\n",
       "        text-align: right;\n",
       "    }\n",
       "</style>\n",
       "<table border=\"1\" class=\"dataframe\">\n",
       "  <thead>\n",
       "    <tr style=\"text-align: right;\">\n",
       "      <th></th>\n",
       "      <th>ratings</th>\n",
       "      <th>counts</th>\n",
       "    </tr>\n",
       "    <tr>\n",
       "      <th>userId</th>\n",
       "      <th></th>\n",
       "      <th></th>\n",
       "    </tr>\n",
       "  </thead>\n",
       "  <tbody>\n",
       "    <tr>\n",
       "      <th>2648869</th>\n",
       "      <td>2.777778</td>\n",
       "      <td>9</td>\n",
       "    </tr>\n",
       "    <tr>\n",
       "      <th>2648885</th>\n",
       "      <td>4.000000</td>\n",
       "      <td>5</td>\n",
       "    </tr>\n",
       "    <tr>\n",
       "      <th>2649120</th>\n",
       "      <td>5.000000</td>\n",
       "      <td>2</td>\n",
       "    </tr>\n",
       "    <tr>\n",
       "      <th>2649267</th>\n",
       "      <td>4.142857</td>\n",
       "      <td>7</td>\n",
       "    </tr>\n",
       "    <tr>\n",
       "      <th>2649285</th>\n",
       "      <td>2.333333</td>\n",
       "      <td>3</td>\n",
       "    </tr>\n",
       "  </tbody>\n",
       "</table>\n",
       "</div>"
      ],
      "text/plain": [
       "          ratings  counts\n",
       "userId                   \n",
       "2648869  2.777778       9\n",
       "2648885  4.000000       5\n",
       "2649120  5.000000       2\n",
       "2649267  4.142857       7\n",
       "2649285  2.333333       3"
      ]
     },
     "execution_count": 137,
     "metadata": {},
     "output_type": "execute_result"
    }
   ],
   "source": [
    "#checking overall average rate of the user with their counts  in the testing set\n",
    "\n",
    "averageUserRatingsTesting = pd.DataFrame(pd_testing.groupby('userId')['ratings'].mean())\n",
    "\n",
    "averageUserRatingsTesting['counts'] =pd.DataFrame(pd_testing.groupby('userId')['ratings'].count())\n",
    "\n",
    "averageUserRatingsTesting.tail()"
   ]
  },
  {
   "cell_type": "code",
   "execution_count": 138,
   "metadata": {},
   "outputs": [
    {
     "data": {
      "text/html": [
       "<div>\n",
       "<style scoped>\n",
       "    .dataframe tbody tr th:only-of-type {\n",
       "        vertical-align: middle;\n",
       "    }\n",
       "\n",
       "    .dataframe tbody tr th {\n",
       "        vertical-align: top;\n",
       "    }\n",
       "\n",
       "    .dataframe thead th {\n",
       "        text-align: right;\n",
       "    }\n",
       "</style>\n",
       "<table border=\"1\" class=\"dataframe\">\n",
       "  <thead>\n",
       "    <tr style=\"text-align: right;\">\n",
       "      <th></th>\n",
       "      <th>ratings</th>\n",
       "      <th>counts</th>\n",
       "    </tr>\n",
       "    <tr>\n",
       "      <th>userId</th>\n",
       "      <th></th>\n",
       "      <th></th>\n",
       "    </tr>\n",
       "  </thead>\n",
       "  <tbody>\n",
       "    <tr>\n",
       "      <th>1664010</th>\n",
       "      <td>4.300000</td>\n",
       "      <td>70</td>\n",
       "    </tr>\n",
       "    <tr>\n",
       "      <th>2439493</th>\n",
       "      <td>1.307692</td>\n",
       "      <td>52</td>\n",
       "    </tr>\n",
       "    <tr>\n",
       "      <th>305344</th>\n",
       "      <td>1.711538</td>\n",
       "      <td>52</td>\n",
       "    </tr>\n",
       "    <tr>\n",
       "      <th>387418</th>\n",
       "      <td>1.941176</td>\n",
       "      <td>51</td>\n",
       "    </tr>\n",
       "    <tr>\n",
       "      <th>1314869</th>\n",
       "      <td>3.263158</td>\n",
       "      <td>38</td>\n",
       "    </tr>\n",
       "    <tr>\n",
       "      <th>2118461</th>\n",
       "      <td>4.117647</td>\n",
       "      <td>34</td>\n",
       "    </tr>\n",
       "    <tr>\n",
       "      <th>1932594</th>\n",
       "      <td>2.321429</td>\n",
       "      <td>28</td>\n",
       "    </tr>\n",
       "    <tr>\n",
       "      <th>491531</th>\n",
       "      <td>2.629630</td>\n",
       "      <td>27</td>\n",
       "    </tr>\n",
       "    <tr>\n",
       "      <th>2606799</th>\n",
       "      <td>2.888889</td>\n",
       "      <td>27</td>\n",
       "    </tr>\n",
       "    <tr>\n",
       "      <th>727242</th>\n",
       "      <td>1.360000</td>\n",
       "      <td>25</td>\n",
       "    </tr>\n",
       "  </tbody>\n",
       "</table>\n",
       "</div>"
      ],
      "text/plain": [
       "          ratings  counts\n",
       "userId                   \n",
       "1664010  4.300000      70\n",
       "2439493  1.307692      52\n",
       "305344   1.711538      52\n",
       "387418   1.941176      51\n",
       "1314869  3.263158      38\n",
       "2118461  4.117647      34\n",
       "1932594  2.321429      28\n",
       "491531   2.629630      27\n",
       "2606799  2.888889      27\n",
       "727242   1.360000      25"
      ]
     },
     "execution_count": 138,
     "metadata": {},
     "output_type": "execute_result"
    }
   ],
   "source": [
    "averageUserRatingsTesting.sort_values(by=['counts'],ascending=False).head(10)"
   ]
  },
  {
   "cell_type": "markdown",
   "metadata": {},
   "source": [
    "## ESTIMATED AVERAGE OVERLAP OF ITEMS FOR USERS"
   ]
  },
  {
   "cell_type": "code",
   "execution_count": 139,
   "metadata": {},
   "outputs": [
    {
     "data": {
      "text/html": [
       "<div>\n",
       "<style scoped>\n",
       "    .dataframe tbody tr th:only-of-type {\n",
       "        vertical-align: middle;\n",
       "    }\n",
       "\n",
       "    .dataframe tbody tr th {\n",
       "        vertical-align: top;\n",
       "    }\n",
       "\n",
       "    .dataframe thead th {\n",
       "        text-align: right;\n",
       "    }\n",
       "</style>\n",
       "<table border=\"1\" class=\"dataframe\">\n",
       "  <thead>\n",
       "    <tr style=\"text-align: right;\">\n",
       "      <th>movieId</th>\n",
       "      <th>8</th>\n",
       "      <th>28</th>\n",
       "      <th>43</th>\n",
       "      <th>48</th>\n",
       "      <th>61</th>\n",
       "      <th>64</th>\n",
       "      <th>66</th>\n",
       "      <th>92</th>\n",
       "      <th>96</th>\n",
       "      <th>111</th>\n",
       "      <th>...</th>\n",
       "      <th>17654</th>\n",
       "      <th>17660</th>\n",
       "      <th>17689</th>\n",
       "      <th>17693</th>\n",
       "      <th>17706</th>\n",
       "      <th>17725</th>\n",
       "      <th>17728</th>\n",
       "      <th>17734</th>\n",
       "      <th>17741</th>\n",
       "      <th>17742</th>\n",
       "    </tr>\n",
       "    <tr>\n",
       "      <th>userId</th>\n",
       "      <th></th>\n",
       "      <th></th>\n",
       "      <th></th>\n",
       "      <th></th>\n",
       "      <th></th>\n",
       "      <th></th>\n",
       "      <th></th>\n",
       "      <th></th>\n",
       "      <th></th>\n",
       "      <th></th>\n",
       "      <th></th>\n",
       "      <th></th>\n",
       "      <th></th>\n",
       "      <th></th>\n",
       "      <th></th>\n",
       "      <th></th>\n",
       "      <th></th>\n",
       "      <th></th>\n",
       "      <th></th>\n",
       "      <th></th>\n",
       "      <th></th>\n",
       "    </tr>\n",
       "  </thead>\n",
       "  <tbody>\n",
       "    <tr>\n",
       "      <th>7</th>\n",
       "      <td>5.0</td>\n",
       "      <td>4.0</td>\n",
       "      <td>NaN</td>\n",
       "      <td>NaN</td>\n",
       "      <td>NaN</td>\n",
       "      <td>NaN</td>\n",
       "      <td>NaN</td>\n",
       "      <td>NaN</td>\n",
       "      <td>NaN</td>\n",
       "      <td>NaN</td>\n",
       "      <td>...</td>\n",
       "      <td>NaN</td>\n",
       "      <td>NaN</td>\n",
       "      <td>NaN</td>\n",
       "      <td>NaN</td>\n",
       "      <td>NaN</td>\n",
       "      <td>NaN</td>\n",
       "      <td>NaN</td>\n",
       "      <td>NaN</td>\n",
       "      <td>NaN</td>\n",
       "      <td>NaN</td>\n",
       "    </tr>\n",
       "    <tr>\n",
       "      <th>79</th>\n",
       "      <td>NaN</td>\n",
       "      <td>NaN</td>\n",
       "      <td>NaN</td>\n",
       "      <td>NaN</td>\n",
       "      <td>NaN</td>\n",
       "      <td>NaN</td>\n",
       "      <td>NaN</td>\n",
       "      <td>NaN</td>\n",
       "      <td>NaN</td>\n",
       "      <td>NaN</td>\n",
       "      <td>...</td>\n",
       "      <td>NaN</td>\n",
       "      <td>NaN</td>\n",
       "      <td>NaN</td>\n",
       "      <td>NaN</td>\n",
       "      <td>NaN</td>\n",
       "      <td>NaN</td>\n",
       "      <td>NaN</td>\n",
       "      <td>NaN</td>\n",
       "      <td>NaN</td>\n",
       "      <td>NaN</td>\n",
       "    </tr>\n",
       "    <tr>\n",
       "      <th>199</th>\n",
       "      <td>NaN</td>\n",
       "      <td>NaN</td>\n",
       "      <td>NaN</td>\n",
       "      <td>NaN</td>\n",
       "      <td>NaN</td>\n",
       "      <td>NaN</td>\n",
       "      <td>NaN</td>\n",
       "      <td>NaN</td>\n",
       "      <td>NaN</td>\n",
       "      <td>4.0</td>\n",
       "      <td>...</td>\n",
       "      <td>NaN</td>\n",
       "      <td>NaN</td>\n",
       "      <td>NaN</td>\n",
       "      <td>NaN</td>\n",
       "      <td>NaN</td>\n",
       "      <td>NaN</td>\n",
       "      <td>NaN</td>\n",
       "      <td>NaN</td>\n",
       "      <td>NaN</td>\n",
       "      <td>NaN</td>\n",
       "    </tr>\n",
       "    <tr>\n",
       "      <th>481</th>\n",
       "      <td>NaN</td>\n",
       "      <td>NaN</td>\n",
       "      <td>NaN</td>\n",
       "      <td>NaN</td>\n",
       "      <td>NaN</td>\n",
       "      <td>NaN</td>\n",
       "      <td>NaN</td>\n",
       "      <td>NaN</td>\n",
       "      <td>NaN</td>\n",
       "      <td>5.0</td>\n",
       "      <td>...</td>\n",
       "      <td>NaN</td>\n",
       "      <td>NaN</td>\n",
       "      <td>NaN</td>\n",
       "      <td>NaN</td>\n",
       "      <td>NaN</td>\n",
       "      <td>NaN</td>\n",
       "      <td>NaN</td>\n",
       "      <td>NaN</td>\n",
       "      <td>NaN</td>\n",
       "      <td>NaN</td>\n",
       "    </tr>\n",
       "    <tr>\n",
       "      <th>769</th>\n",
       "      <td>NaN</td>\n",
       "      <td>NaN</td>\n",
       "      <td>NaN</td>\n",
       "      <td>NaN</td>\n",
       "      <td>NaN</td>\n",
       "      <td>NaN</td>\n",
       "      <td>NaN</td>\n",
       "      <td>NaN</td>\n",
       "      <td>NaN</td>\n",
       "      <td>NaN</td>\n",
       "      <td>...</td>\n",
       "      <td>NaN</td>\n",
       "      <td>NaN</td>\n",
       "      <td>NaN</td>\n",
       "      <td>NaN</td>\n",
       "      <td>NaN</td>\n",
       "      <td>NaN</td>\n",
       "      <td>NaN</td>\n",
       "      <td>NaN</td>\n",
       "      <td>NaN</td>\n",
       "      <td>NaN</td>\n",
       "    </tr>\n",
       "  </tbody>\n",
       "</table>\n",
       "<p>5 rows × 1821 columns</p>\n",
       "</div>"
      ],
      "text/plain": [
       "movieId  8      28     43     48     61     64     66     92     96     111    \\\n",
       "userId                                                                          \n",
       "7          5.0    4.0    NaN    NaN    NaN    NaN    NaN    NaN    NaN    NaN   \n",
       "79         NaN    NaN    NaN    NaN    NaN    NaN    NaN    NaN    NaN    NaN   \n",
       "199        NaN    NaN    NaN    NaN    NaN    NaN    NaN    NaN    NaN    4.0   \n",
       "481        NaN    NaN    NaN    NaN    NaN    NaN    NaN    NaN    NaN    5.0   \n",
       "769        NaN    NaN    NaN    NaN    NaN    NaN    NaN    NaN    NaN    NaN   \n",
       "\n",
       "movieId  ...  17654  17660  17689  17693  17706  17725  17728  17734  17741  \\\n",
       "userId   ...                                                                  \n",
       "7        ...    NaN    NaN    NaN    NaN    NaN    NaN    NaN    NaN    NaN   \n",
       "79       ...    NaN    NaN    NaN    NaN    NaN    NaN    NaN    NaN    NaN   \n",
       "199      ...    NaN    NaN    NaN    NaN    NaN    NaN    NaN    NaN    NaN   \n",
       "481      ...    NaN    NaN    NaN    NaN    NaN    NaN    NaN    NaN    NaN   \n",
       "769      ...    NaN    NaN    NaN    NaN    NaN    NaN    NaN    NaN    NaN   \n",
       "\n",
       "movieId  17742  \n",
       "userId          \n",
       "7          NaN  \n",
       "79         NaN  \n",
       "199        NaN  \n",
       "481        NaN  \n",
       "769        NaN  \n",
       "\n",
       "[5 rows x 1821 columns]"
      ]
     },
     "execution_count": 139,
     "metadata": {},
     "output_type": "execute_result"
    }
   ],
   "source": [
    "#Pivoting the table with userID as index and the movieId as columns for our training data\n",
    "\n",
    "userItemRating = pd_training.pivot_table(index='userId', columns='movieId', values='ratings')\n",
    "\n",
    "userItemRating.head()"
   ]
  },
  {
   "cell_type": "code",
   "execution_count": 140,
   "metadata": {},
   "outputs": [
    {
     "data": {
      "text/html": [
       "<div>\n",
       "<style scoped>\n",
       "    .dataframe tbody tr th:only-of-type {\n",
       "        vertical-align: middle;\n",
       "    }\n",
       "\n",
       "    .dataframe tbody tr th {\n",
       "        vertical-align: top;\n",
       "    }\n",
       "\n",
       "    .dataframe thead th {\n",
       "        text-align: right;\n",
       "    }\n",
       "</style>\n",
       "<table border=\"1\" class=\"dataframe\">\n",
       "  <thead>\n",
       "    <tr style=\"text-align: right;\">\n",
       "      <th></th>\n",
       "      <th>movieId</th>\n",
       "      <th>userId</th>\n",
       "      <th>ratings</th>\n",
       "    </tr>\n",
       "  </thead>\n",
       "  <tbody>\n",
       "    <tr>\n",
       "      <th>0</th>\n",
       "      <td>8</td>\n",
       "      <td>573364</td>\n",
       "      <td>1.0</td>\n",
       "    </tr>\n",
       "    <tr>\n",
       "      <th>1</th>\n",
       "      <td>8</td>\n",
       "      <td>2149668</td>\n",
       "      <td>3.0</td>\n",
       "    </tr>\n",
       "    <tr>\n",
       "      <th>2</th>\n",
       "      <td>8</td>\n",
       "      <td>1089184</td>\n",
       "      <td>3.0</td>\n",
       "    </tr>\n",
       "    <tr>\n",
       "      <th>3</th>\n",
       "      <td>8</td>\n",
       "      <td>2465894</td>\n",
       "      <td>3.0</td>\n",
       "    </tr>\n",
       "    <tr>\n",
       "      <th>4</th>\n",
       "      <td>8</td>\n",
       "      <td>534508</td>\n",
       "      <td>1.0</td>\n",
       "    </tr>\n",
       "  </tbody>\n",
       "</table>\n",
       "</div>"
      ],
      "text/plain": [
       "   movieId   userId  ratings\n",
       "0        8   573364      1.0\n",
       "1        8  2149668      3.0\n",
       "2        8  1089184      3.0\n",
       "3        8  2465894      3.0\n",
       "4        8   534508      1.0"
      ]
     },
     "execution_count": 140,
     "metadata": {},
     "output_type": "execute_result"
    }
   ],
   "source": [
    "pd_testing.head()"
   ]
  },
  {
   "cell_type": "code",
   "execution_count": 141,
   "metadata": {},
   "outputs": [
    {
     "data": {
      "text/html": [
       "<div>\n",
       "<style scoped>\n",
       "    .dataframe tbody tr th:only-of-type {\n",
       "        vertical-align: middle;\n",
       "    }\n",
       "\n",
       "    .dataframe tbody tr th {\n",
       "        vertical-align: top;\n",
       "    }\n",
       "\n",
       "    .dataframe thead th {\n",
       "        text-align: right;\n",
       "    }\n",
       "</style>\n",
       "<table border=\"1\" class=\"dataframe\">\n",
       "  <thead>\n",
       "    <tr style=\"text-align: right;\">\n",
       "      <th>movieId</th>\n",
       "      <th>8</th>\n",
       "      <th>28</th>\n",
       "      <th>43</th>\n",
       "      <th>48</th>\n",
       "      <th>61</th>\n",
       "      <th>64</th>\n",
       "      <th>66</th>\n",
       "      <th>92</th>\n",
       "      <th>96</th>\n",
       "      <th>111</th>\n",
       "      <th>...</th>\n",
       "      <th>17654</th>\n",
       "      <th>17660</th>\n",
       "      <th>17689</th>\n",
       "      <th>17693</th>\n",
       "      <th>17706</th>\n",
       "      <th>17725</th>\n",
       "      <th>17728</th>\n",
       "      <th>17734</th>\n",
       "      <th>17741</th>\n",
       "      <th>17742</th>\n",
       "    </tr>\n",
       "    <tr>\n",
       "      <th>userId</th>\n",
       "      <th></th>\n",
       "      <th></th>\n",
       "      <th></th>\n",
       "      <th></th>\n",
       "      <th></th>\n",
       "      <th></th>\n",
       "      <th></th>\n",
       "      <th></th>\n",
       "      <th></th>\n",
       "      <th></th>\n",
       "      <th></th>\n",
       "      <th></th>\n",
       "      <th></th>\n",
       "      <th></th>\n",
       "      <th></th>\n",
       "      <th></th>\n",
       "      <th></th>\n",
       "      <th></th>\n",
       "      <th></th>\n",
       "      <th></th>\n",
       "      <th></th>\n",
       "    </tr>\n",
       "  </thead>\n",
       "  <tbody>\n",
       "    <tr>\n",
       "      <th>7</th>\n",
       "      <td>5</td>\n",
       "      <td>4</td>\n",
       "      <td>0</td>\n",
       "      <td>0</td>\n",
       "      <td>0</td>\n",
       "      <td>0</td>\n",
       "      <td>0</td>\n",
       "      <td>0</td>\n",
       "      <td>0</td>\n",
       "      <td>0</td>\n",
       "      <td>...</td>\n",
       "      <td>0</td>\n",
       "      <td>0</td>\n",
       "      <td>0</td>\n",
       "      <td>0</td>\n",
       "      <td>0</td>\n",
       "      <td>0</td>\n",
       "      <td>0</td>\n",
       "      <td>0</td>\n",
       "      <td>0</td>\n",
       "      <td>0</td>\n",
       "    </tr>\n",
       "    <tr>\n",
       "      <th>79</th>\n",
       "      <td>0</td>\n",
       "      <td>0</td>\n",
       "      <td>0</td>\n",
       "      <td>0</td>\n",
       "      <td>0</td>\n",
       "      <td>0</td>\n",
       "      <td>0</td>\n",
       "      <td>0</td>\n",
       "      <td>0</td>\n",
       "      <td>0</td>\n",
       "      <td>...</td>\n",
       "      <td>0</td>\n",
       "      <td>0</td>\n",
       "      <td>0</td>\n",
       "      <td>0</td>\n",
       "      <td>0</td>\n",
       "      <td>0</td>\n",
       "      <td>0</td>\n",
       "      <td>0</td>\n",
       "      <td>0</td>\n",
       "      <td>0</td>\n",
       "    </tr>\n",
       "    <tr>\n",
       "      <th>199</th>\n",
       "      <td>0</td>\n",
       "      <td>0</td>\n",
       "      <td>0</td>\n",
       "      <td>0</td>\n",
       "      <td>0</td>\n",
       "      <td>0</td>\n",
       "      <td>0</td>\n",
       "      <td>0</td>\n",
       "      <td>0</td>\n",
       "      <td>4</td>\n",
       "      <td>...</td>\n",
       "      <td>0</td>\n",
       "      <td>0</td>\n",
       "      <td>0</td>\n",
       "      <td>0</td>\n",
       "      <td>0</td>\n",
       "      <td>0</td>\n",
       "      <td>0</td>\n",
       "      <td>0</td>\n",
       "      <td>0</td>\n",
       "      <td>0</td>\n",
       "    </tr>\n",
       "    <tr>\n",
       "      <th>481</th>\n",
       "      <td>0</td>\n",
       "      <td>0</td>\n",
       "      <td>0</td>\n",
       "      <td>0</td>\n",
       "      <td>0</td>\n",
       "      <td>0</td>\n",
       "      <td>0</td>\n",
       "      <td>0</td>\n",
       "      <td>0</td>\n",
       "      <td>5</td>\n",
       "      <td>...</td>\n",
       "      <td>0</td>\n",
       "      <td>0</td>\n",
       "      <td>0</td>\n",
       "      <td>0</td>\n",
       "      <td>0</td>\n",
       "      <td>0</td>\n",
       "      <td>0</td>\n",
       "      <td>0</td>\n",
       "      <td>0</td>\n",
       "      <td>0</td>\n",
       "    </tr>\n",
       "    <tr>\n",
       "      <th>769</th>\n",
       "      <td>0</td>\n",
       "      <td>0</td>\n",
       "      <td>0</td>\n",
       "      <td>0</td>\n",
       "      <td>0</td>\n",
       "      <td>0</td>\n",
       "      <td>0</td>\n",
       "      <td>0</td>\n",
       "      <td>0</td>\n",
       "      <td>0</td>\n",
       "      <td>...</td>\n",
       "      <td>0</td>\n",
       "      <td>0</td>\n",
       "      <td>0</td>\n",
       "      <td>0</td>\n",
       "      <td>0</td>\n",
       "      <td>0</td>\n",
       "      <td>0</td>\n",
       "      <td>0</td>\n",
       "      <td>0</td>\n",
       "      <td>0</td>\n",
       "    </tr>\n",
       "  </tbody>\n",
       "</table>\n",
       "<p>5 rows × 1821 columns</p>\n",
       "</div>"
      ],
      "text/plain": [
       "movieId  8      28     43     48     61     64     66     92     96     111    \\\n",
       "userId                                                                          \n",
       "7            5      4      0      0      0      0      0      0      0      0   \n",
       "79           0      0      0      0      0      0      0      0      0      0   \n",
       "199          0      0      0      0      0      0      0      0      0      4   \n",
       "481          0      0      0      0      0      0      0      0      0      5   \n",
       "769          0      0      0      0      0      0      0      0      0      0   \n",
       "\n",
       "movieId  ...  17654  17660  17689  17693  17706  17725  17728  17734  17741  \\\n",
       "userId   ...                                                                  \n",
       "7        ...      0      0      0      0      0      0      0      0      0   \n",
       "79       ...      0      0      0      0      0      0      0      0      0   \n",
       "199      ...      0      0      0      0      0      0      0      0      0   \n",
       "481      ...      0      0      0      0      0      0      0      0      0   \n",
       "769      ...      0      0      0      0      0      0      0      0      0   \n",
       "\n",
       "movieId  17742  \n",
       "userId          \n",
       "7            0  \n",
       "79           0  \n",
       "199          0  \n",
       "481          0  \n",
       "769          0  \n",
       "\n",
       "[5 rows x 1821 columns]"
      ]
     },
     "execution_count": 141,
     "metadata": {},
     "output_type": "execute_result"
    }
   ],
   "source": [
    "userItemRating.fillna(0, inplace = True)\n",
    "\n",
    "userMovieRating = userItemRating.astype(np.int32)\n",
    "\n",
    "userMovieRating.head()"
   ]
  },
  {
   "cell_type": "markdown",
   "metadata": {},
   "source": [
    "\n",
    "## I am using the top 10 users and movies which are having the most counts from the test dataset.\n"
   ]
  },
  {
   "cell_type": "code",
   "execution_count": 142,
   "metadata": {},
   "outputs": [
    {
     "data": {
      "text/plain": [
       "userId\n",
       "7       0\n",
       "79      0\n",
       "199     0\n",
       "481     0\n",
       "769     0\n",
       "906     0\n",
       "1310    0\n",
       "1333    0\n",
       "1427    0\n",
       "1442    0\n",
       "1457    0\n",
       "1500    0\n",
       "1527    0\n",
       "1918    0\n",
       "2000    0\n",
       "2128    0\n",
       "2213    0\n",
       "2225    0\n",
       "2307    0\n",
       "2455    0\n",
       "2469    0\n",
       "2678    0\n",
       "2787    0\n",
       "2905    0\n",
       "2976    0\n",
       "3039    0\n",
       "3321    0\n",
       "3363    0\n",
       "3458    0\n",
       "3595    0\n",
       "3604    0\n",
       "3694    0\n",
       "3718    0\n",
       "3798    0\n",
       "3870    0\n",
       "3998    0\n",
       "4057    0\n",
       "4247    0\n",
       "4306    0\n",
       "4315    0\n",
       "4409    0\n",
       "4421    0\n",
       "4576    0\n",
       "4597    0\n",
       "4679    0\n",
       "4706    0\n",
       "4783    0\n",
       "4905    0\n",
       "4906    0\n",
       "4983    0\n",
       "Name: 17742, dtype: int32"
      ]
     },
     "execution_count": 142,
     "metadata": {},
     "output_type": "execute_result"
    }
   ],
   "source": [
    "userMovieRating[17742].head(50)"
   ]
  },
  {
   "cell_type": "code",
   "execution_count": 143,
   "metadata": {},
   "outputs": [],
   "source": [
    "def average(user):\n",
    "    summed =0\n",
    "    count =0\n",
    "\n",
    "    for i in range(len(user)):\n",
    "        if(user[i]==0):\n",
    "            summed = summed +0\n",
    "        else:\n",
    "            summed= user[i] +summed\n",
    "            count= 1+ count\n",
    "    avgg=summed/count\n",
    "    return avgg"
   ]
  },
  {
   "cell_type": "code",
   "execution_count": 144,
   "metadata": {},
   "outputs": [
    {
     "data": {
      "text/html": [
       "<div>\n",
       "<style scoped>\n",
       "    .dataframe tbody tr th:only-of-type {\n",
       "        vertical-align: middle;\n",
       "    }\n",
       "\n",
       "    .dataframe tbody tr th {\n",
       "        vertical-align: top;\n",
       "    }\n",
       "\n",
       "    .dataframe thead th {\n",
       "        text-align: right;\n",
       "    }\n",
       "</style>\n",
       "<table border=\"1\" class=\"dataframe\">\n",
       "  <thead>\n",
       "    <tr style=\"text-align: right;\">\n",
       "      <th></th>\n",
       "      <th>movieId</th>\n",
       "      <th>userId</th>\n",
       "      <th>ratings</th>\n",
       "    </tr>\n",
       "  </thead>\n",
       "  <tbody>\n",
       "    <tr>\n",
       "      <th>100473</th>\n",
       "      <td>17742</td>\n",
       "      <td>1898310</td>\n",
       "      <td>2.0</td>\n",
       "    </tr>\n",
       "    <tr>\n",
       "      <th>100474</th>\n",
       "      <td>17742</td>\n",
       "      <td>716096</td>\n",
       "      <td>4.0</td>\n",
       "    </tr>\n",
       "    <tr>\n",
       "      <th>100475</th>\n",
       "      <td>17742</td>\n",
       "      <td>38115</td>\n",
       "      <td>3.0</td>\n",
       "    </tr>\n",
       "    <tr>\n",
       "      <th>100476</th>\n",
       "      <td>17742</td>\n",
       "      <td>2646347</td>\n",
       "      <td>5.0</td>\n",
       "    </tr>\n",
       "    <tr>\n",
       "      <th>100477</th>\n",
       "      <td>17742</td>\n",
       "      <td>273576</td>\n",
       "      <td>2.0</td>\n",
       "    </tr>\n",
       "  </tbody>\n",
       "</table>\n",
       "</div>"
      ],
      "text/plain": [
       "        movieId   userId  ratings\n",
       "100473    17742  1898310      2.0\n",
       "100474    17742   716096      4.0\n",
       "100475    17742    38115      3.0\n",
       "100476    17742  2646347      5.0\n",
       "100477    17742   273576      2.0"
      ]
     },
     "execution_count": 144,
     "metadata": {},
     "output_type": "execute_result"
    }
   ],
   "source": [
    "pd_testing.tail()"
   ]
  },
  {
   "cell_type": "code",
   "execution_count": 145,
   "metadata": {},
   "outputs": [
    {
     "name": "stdout",
     "output_type": "stream",
     "text": [
      "4.2384364820846905\n"
     ]
    }
   ],
   "source": [
    "user1664010= list(userMovieRating.loc[1664010])\n",
    "avg1664010= average(user1664010)\n",
    "print(avg1664010)"
   ]
  },
  {
   "cell_type": "code",
   "execution_count": 146,
   "metadata": {},
   "outputs": [
    {
     "name": "stdout",
     "output_type": "stream",
     "text": [
      "1.225609756097561\n"
     ]
    }
   ],
   "source": [
    "user2439493 = list(userMovieRating.loc[2439493])\n",
    "\n",
    "avg2439493= average(user2439493)\n",
    "\n",
    "print(avg2439493)"
   ]
  },
  {
   "cell_type": "code",
   "execution_count": 147,
   "metadata": {},
   "outputs": [
    {
     "name": "stdout",
     "output_type": "stream",
     "text": [
      "1.904382470119522\n"
     ]
    }
   ],
   "source": [
    "user305344 = list(userMovieRating.loc[305344])\n",
    "\n",
    "avg305344 = average(user305344)\n",
    "\n",
    "print(avg305344)"
   ]
  },
  {
   "cell_type": "code",
   "execution_count": 148,
   "metadata": {},
   "outputs": [
    {
     "name": "stdout",
     "output_type": "stream",
     "text": [
      "1.8405963302752293\n"
     ]
    }
   ],
   "source": [
    "user387418 = list(userMovieRating.loc[387418])\n",
    "\n",
    "avg387418= average(user387418)\n",
    "\n",
    "print(avg387418)"
   ]
  },
  {
   "cell_type": "code",
   "execution_count": 149,
   "metadata": {},
   "outputs": [
    {
     "name": "stdout",
     "output_type": "stream",
     "text": [
      "2.970984455958549\n"
     ]
    }
   ],
   "source": [
    "user1314869 = list(userMovieRating.loc[1314869])\n",
    "\n",
    "avg1314869= average(user1314869)\n",
    "\n",
    "print(avg1314869)"
   ]
  },
  {
   "cell_type": "code",
   "execution_count": 150,
   "metadata": {},
   "outputs": [
    {
     "name": "stdout",
     "output_type": "stream",
     "text": [
      "4.088453747467927\n"
     ]
    }
   ],
   "source": [
    "user2118461 = list(userMovieRating.loc[2118461])\n",
    "\n",
    "avg2118461= average(user2118461)\n",
    "\n",
    "print(avg2118461)"
   ]
  },
  {
   "cell_type": "code",
   "execution_count": 151,
   "metadata": {},
   "outputs": [
    {
     "name": "stdout",
     "output_type": "stream",
     "text": [
      "2.3195754716981134\n"
     ]
    }
   ],
   "source": [
    "user1932594 = list(userMovieRating.loc[1932594])\n",
    "\n",
    "avg1932594 = average(user1932594)\n",
    "\n",
    "print(avg1932594)"
   ]
  },
  {
   "cell_type": "code",
   "execution_count": 152,
   "metadata": {},
   "outputs": [
    {
     "name": "stdout",
     "output_type": "stream",
     "text": [
      "2.9102384291725105\n"
     ]
    }
   ],
   "source": [
    "user491531 = list(userMovieRating.loc[491531])\n",
    "\n",
    "avg491531= average(user491531)\n",
    "\n",
    "print(avg491531)"
   ]
  },
  {
   "cell_type": "code",
   "execution_count": 153,
   "metadata": {},
   "outputs": [
    {
     "name": "stdout",
     "output_type": "stream",
     "text": [
      "2.817982456140351\n"
     ]
    }
   ],
   "source": [
    "user2606799 = list(userMovieRating.loc[2606799])\n",
    "\n",
    "avg2606799 = average(user2606799)\n",
    "\n",
    "print(avg2606799)"
   ]
  },
  {
   "cell_type": "code",
   "execution_count": 154,
   "metadata": {},
   "outputs": [
    {
     "name": "stdout",
     "output_type": "stream",
     "text": [
      "1.1890694239290989\n"
     ]
    }
   ],
   "source": [
    "user727242 = list(userMovieRating.loc[727242])\n",
    "\n",
    "avg727242 = average(user727242)\n",
    "\n",
    "print(avg727242)"
   ]
  },
  {
   "cell_type": "code",
   "execution_count": 155,
   "metadata": {},
   "outputs": [
    {
     "name": "stdout",
     "output_type": "stream",
     "text": [
      "ESTIMATED AVERAGE OVERLAP OF ITEMS FOR USERS is :  2.550532902294355\n"
     ]
    }
   ],
   "source": [
    "ESTIMATED_AVERAGE_ITEMS_USERS = avg1314869+avg387418+avg305344+avg2439493+avg1664010+avg727242+avg2606799+avg491531+avg1932594+avg2118461\n",
    "\n",
    "print(\"ESTIMATED AVERAGE OVERLAP OF ITEMS FOR USERS is : \",ESTIMATED_AVERAGE_ITEMS_USERS/10)"
   ]
  },
  {
   "cell_type": "markdown",
   "metadata": {},
   "source": [
    "### ESTIMATED AVERAGE OVERLAP OF ITEMS FOR USERS is :  2.550532902294355"
   ]
  },
  {
   "cell_type": "code",
   "execution_count": null,
   "metadata": {},
   "outputs": [],
   "source": []
  },
  {
   "cell_type": "code",
   "execution_count": null,
   "metadata": {},
   "outputs": [],
   "source": []
  },
  {
   "cell_type": "markdown",
   "metadata": {},
   "source": [
    "## ESTIMATED AVERAGE OVERLAP OF USERS FOR ITEMS# "
   ]
  },
  {
   "cell_type": "code",
   "execution_count": 156,
   "metadata": {},
   "outputs": [
    {
     "data": {
      "text/html": [
       "<div>\n",
       "<style scoped>\n",
       "    .dataframe tbody tr th:only-of-type {\n",
       "        vertical-align: middle;\n",
       "    }\n",
       "\n",
       "    .dataframe tbody tr th {\n",
       "        vertical-align: top;\n",
       "    }\n",
       "\n",
       "    .dataframe thead th {\n",
       "        text-align: right;\n",
       "    }\n",
       "</style>\n",
       "<table border=\"1\" class=\"dataframe\">\n",
       "  <thead>\n",
       "    <tr style=\"text-align: right;\">\n",
       "      <th>userId</th>\n",
       "      <th>7</th>\n",
       "      <th>79</th>\n",
       "      <th>199</th>\n",
       "      <th>481</th>\n",
       "      <th>769</th>\n",
       "      <th>906</th>\n",
       "      <th>1310</th>\n",
       "      <th>1333</th>\n",
       "      <th>1427</th>\n",
       "      <th>1442</th>\n",
       "      <th>...</th>\n",
       "      <th>2648572</th>\n",
       "      <th>2648589</th>\n",
       "      <th>2648730</th>\n",
       "      <th>2648734</th>\n",
       "      <th>2648853</th>\n",
       "      <th>2648869</th>\n",
       "      <th>2648885</th>\n",
       "      <th>2649120</th>\n",
       "      <th>2649267</th>\n",
       "      <th>2649285</th>\n",
       "    </tr>\n",
       "    <tr>\n",
       "      <th>movieId</th>\n",
       "      <th></th>\n",
       "      <th></th>\n",
       "      <th></th>\n",
       "      <th></th>\n",
       "      <th></th>\n",
       "      <th></th>\n",
       "      <th></th>\n",
       "      <th></th>\n",
       "      <th></th>\n",
       "      <th></th>\n",
       "      <th></th>\n",
       "      <th></th>\n",
       "      <th></th>\n",
       "      <th></th>\n",
       "      <th></th>\n",
       "      <th></th>\n",
       "      <th></th>\n",
       "      <th></th>\n",
       "      <th></th>\n",
       "      <th></th>\n",
       "      <th></th>\n",
       "    </tr>\n",
       "  </thead>\n",
       "  <tbody>\n",
       "    <tr>\n",
       "      <th>8</th>\n",
       "      <td>5.0</td>\n",
       "      <td>NaN</td>\n",
       "      <td>NaN</td>\n",
       "      <td>NaN</td>\n",
       "      <td>NaN</td>\n",
       "      <td>NaN</td>\n",
       "      <td>NaN</td>\n",
       "      <td>3.0</td>\n",
       "      <td>NaN</td>\n",
       "      <td>NaN</td>\n",
       "      <td>...</td>\n",
       "      <td>NaN</td>\n",
       "      <td>NaN</td>\n",
       "      <td>NaN</td>\n",
       "      <td>NaN</td>\n",
       "      <td>NaN</td>\n",
       "      <td>NaN</td>\n",
       "      <td>NaN</td>\n",
       "      <td>NaN</td>\n",
       "      <td>NaN</td>\n",
       "      <td>NaN</td>\n",
       "    </tr>\n",
       "    <tr>\n",
       "      <th>28</th>\n",
       "      <td>4.0</td>\n",
       "      <td>NaN</td>\n",
       "      <td>NaN</td>\n",
       "      <td>NaN</td>\n",
       "      <td>NaN</td>\n",
       "      <td>3.0</td>\n",
       "      <td>3.0</td>\n",
       "      <td>2.0</td>\n",
       "      <td>NaN</td>\n",
       "      <td>4.0</td>\n",
       "      <td>...</td>\n",
       "      <td>NaN</td>\n",
       "      <td>3.0</td>\n",
       "      <td>4.0</td>\n",
       "      <td>NaN</td>\n",
       "      <td>2.0</td>\n",
       "      <td>NaN</td>\n",
       "      <td>4.0</td>\n",
       "      <td>NaN</td>\n",
       "      <td>NaN</td>\n",
       "      <td>4.0</td>\n",
       "    </tr>\n",
       "    <tr>\n",
       "      <th>43</th>\n",
       "      <td>NaN</td>\n",
       "      <td>NaN</td>\n",
       "      <td>NaN</td>\n",
       "      <td>NaN</td>\n",
       "      <td>NaN</td>\n",
       "      <td>NaN</td>\n",
       "      <td>NaN</td>\n",
       "      <td>NaN</td>\n",
       "      <td>NaN</td>\n",
       "      <td>NaN</td>\n",
       "      <td>...</td>\n",
       "      <td>NaN</td>\n",
       "      <td>NaN</td>\n",
       "      <td>NaN</td>\n",
       "      <td>NaN</td>\n",
       "      <td>NaN</td>\n",
       "      <td>NaN</td>\n",
       "      <td>NaN</td>\n",
       "      <td>NaN</td>\n",
       "      <td>NaN</td>\n",
       "      <td>NaN</td>\n",
       "    </tr>\n",
       "    <tr>\n",
       "      <th>48</th>\n",
       "      <td>NaN</td>\n",
       "      <td>NaN</td>\n",
       "      <td>NaN</td>\n",
       "      <td>NaN</td>\n",
       "      <td>NaN</td>\n",
       "      <td>NaN</td>\n",
       "      <td>NaN</td>\n",
       "      <td>NaN</td>\n",
       "      <td>NaN</td>\n",
       "      <td>NaN</td>\n",
       "      <td>...</td>\n",
       "      <td>NaN</td>\n",
       "      <td>NaN</td>\n",
       "      <td>NaN</td>\n",
       "      <td>NaN</td>\n",
       "      <td>NaN</td>\n",
       "      <td>NaN</td>\n",
       "      <td>NaN</td>\n",
       "      <td>NaN</td>\n",
       "      <td>NaN</td>\n",
       "      <td>NaN</td>\n",
       "    </tr>\n",
       "    <tr>\n",
       "      <th>61</th>\n",
       "      <td>NaN</td>\n",
       "      <td>NaN</td>\n",
       "      <td>NaN</td>\n",
       "      <td>NaN</td>\n",
       "      <td>NaN</td>\n",
       "      <td>NaN</td>\n",
       "      <td>NaN</td>\n",
       "      <td>NaN</td>\n",
       "      <td>NaN</td>\n",
       "      <td>NaN</td>\n",
       "      <td>...</td>\n",
       "      <td>NaN</td>\n",
       "      <td>NaN</td>\n",
       "      <td>NaN</td>\n",
       "      <td>NaN</td>\n",
       "      <td>NaN</td>\n",
       "      <td>NaN</td>\n",
       "      <td>NaN</td>\n",
       "      <td>NaN</td>\n",
       "      <td>NaN</td>\n",
       "      <td>NaN</td>\n",
       "    </tr>\n",
       "  </tbody>\n",
       "</table>\n",
       "<p>5 rows × 28978 columns</p>\n",
       "</div>"
      ],
      "text/plain": [
       "userId   7        79       199      481      769      906      1310     \\\n",
       "movieId                                                                  \n",
       "8            5.0      NaN      NaN      NaN      NaN      NaN      NaN   \n",
       "28           4.0      NaN      NaN      NaN      NaN      3.0      3.0   \n",
       "43           NaN      NaN      NaN      NaN      NaN      NaN      NaN   \n",
       "48           NaN      NaN      NaN      NaN      NaN      NaN      NaN   \n",
       "61           NaN      NaN      NaN      NaN      NaN      NaN      NaN   \n",
       "\n",
       "userId   1333     1427     1442     ...  2648572  2648589  2648730  2648734  \\\n",
       "movieId                             ...                                       \n",
       "8            3.0      NaN      NaN  ...      NaN      NaN      NaN      NaN   \n",
       "28           2.0      NaN      4.0  ...      NaN      3.0      4.0      NaN   \n",
       "43           NaN      NaN      NaN  ...      NaN      NaN      NaN      NaN   \n",
       "48           NaN      NaN      NaN  ...      NaN      NaN      NaN      NaN   \n",
       "61           NaN      NaN      NaN  ...      NaN      NaN      NaN      NaN   \n",
       "\n",
       "userId   2648853  2648869  2648885  2649120  2649267  2649285  \n",
       "movieId                                                        \n",
       "8            NaN      NaN      NaN      NaN      NaN      NaN  \n",
       "28           2.0      NaN      4.0      NaN      NaN      4.0  \n",
       "43           NaN      NaN      NaN      NaN      NaN      NaN  \n",
       "48           NaN      NaN      NaN      NaN      NaN      NaN  \n",
       "61           NaN      NaN      NaN      NaN      NaN      NaN  \n",
       "\n",
       "[5 rows x 28978 columns]"
      ]
     },
     "execution_count": 156,
     "metadata": {},
     "output_type": "execute_result"
    }
   ],
   "source": [
    "#creating a utility matrix with movieId as index and the userId as columns to training data\n",
    "\n",
    "movieUserRating = pd_training.pivot_table(index='movieId', columns='userId', values='ratings')\n",
    "\n",
    "movieUserRating.head()"
   ]
  },
  {
   "cell_type": "code",
   "execution_count": 157,
   "metadata": {},
   "outputs": [
    {
     "data": {
      "text/html": [
       "<div>\n",
       "<style scoped>\n",
       "    .dataframe tbody tr th:only-of-type {\n",
       "        vertical-align: middle;\n",
       "    }\n",
       "\n",
       "    .dataframe tbody tr th {\n",
       "        vertical-align: top;\n",
       "    }\n",
       "\n",
       "    .dataframe thead th {\n",
       "        text-align: right;\n",
       "    }\n",
       "</style>\n",
       "<table border=\"1\" class=\"dataframe\">\n",
       "  <thead>\n",
       "    <tr style=\"text-align: right;\">\n",
       "      <th>userId</th>\n",
       "      <th>7</th>\n",
       "      <th>79</th>\n",
       "      <th>199</th>\n",
       "      <th>481</th>\n",
       "      <th>769</th>\n",
       "      <th>906</th>\n",
       "      <th>1310</th>\n",
       "      <th>1333</th>\n",
       "      <th>1427</th>\n",
       "      <th>1442</th>\n",
       "      <th>...</th>\n",
       "      <th>2648572</th>\n",
       "      <th>2648589</th>\n",
       "      <th>2648730</th>\n",
       "      <th>2648734</th>\n",
       "      <th>2648853</th>\n",
       "      <th>2648869</th>\n",
       "      <th>2648885</th>\n",
       "      <th>2649120</th>\n",
       "      <th>2649267</th>\n",
       "      <th>2649285</th>\n",
       "    </tr>\n",
       "    <tr>\n",
       "      <th>movieId</th>\n",
       "      <th></th>\n",
       "      <th></th>\n",
       "      <th></th>\n",
       "      <th></th>\n",
       "      <th></th>\n",
       "      <th></th>\n",
       "      <th></th>\n",
       "      <th></th>\n",
       "      <th></th>\n",
       "      <th></th>\n",
       "      <th></th>\n",
       "      <th></th>\n",
       "      <th></th>\n",
       "      <th></th>\n",
       "      <th></th>\n",
       "      <th></th>\n",
       "      <th></th>\n",
       "      <th></th>\n",
       "      <th></th>\n",
       "      <th></th>\n",
       "      <th></th>\n",
       "    </tr>\n",
       "  </thead>\n",
       "  <tbody>\n",
       "    <tr>\n",
       "      <th>8</th>\n",
       "      <td>5</td>\n",
       "      <td>0</td>\n",
       "      <td>0</td>\n",
       "      <td>0</td>\n",
       "      <td>0</td>\n",
       "      <td>0</td>\n",
       "      <td>0</td>\n",
       "      <td>3</td>\n",
       "      <td>0</td>\n",
       "      <td>0</td>\n",
       "      <td>...</td>\n",
       "      <td>0</td>\n",
       "      <td>0</td>\n",
       "      <td>0</td>\n",
       "      <td>0</td>\n",
       "      <td>0</td>\n",
       "      <td>0</td>\n",
       "      <td>0</td>\n",
       "      <td>0</td>\n",
       "      <td>0</td>\n",
       "      <td>0</td>\n",
       "    </tr>\n",
       "    <tr>\n",
       "      <th>28</th>\n",
       "      <td>4</td>\n",
       "      <td>0</td>\n",
       "      <td>0</td>\n",
       "      <td>0</td>\n",
       "      <td>0</td>\n",
       "      <td>3</td>\n",
       "      <td>3</td>\n",
       "      <td>2</td>\n",
       "      <td>0</td>\n",
       "      <td>4</td>\n",
       "      <td>...</td>\n",
       "      <td>0</td>\n",
       "      <td>3</td>\n",
       "      <td>4</td>\n",
       "      <td>0</td>\n",
       "      <td>2</td>\n",
       "      <td>0</td>\n",
       "      <td>4</td>\n",
       "      <td>0</td>\n",
       "      <td>0</td>\n",
       "      <td>4</td>\n",
       "    </tr>\n",
       "    <tr>\n",
       "      <th>43</th>\n",
       "      <td>0</td>\n",
       "      <td>0</td>\n",
       "      <td>0</td>\n",
       "      <td>0</td>\n",
       "      <td>0</td>\n",
       "      <td>0</td>\n",
       "      <td>0</td>\n",
       "      <td>0</td>\n",
       "      <td>0</td>\n",
       "      <td>0</td>\n",
       "      <td>...</td>\n",
       "      <td>0</td>\n",
       "      <td>0</td>\n",
       "      <td>0</td>\n",
       "      <td>0</td>\n",
       "      <td>0</td>\n",
       "      <td>0</td>\n",
       "      <td>0</td>\n",
       "      <td>0</td>\n",
       "      <td>0</td>\n",
       "      <td>0</td>\n",
       "    </tr>\n",
       "    <tr>\n",
       "      <th>48</th>\n",
       "      <td>0</td>\n",
       "      <td>0</td>\n",
       "      <td>0</td>\n",
       "      <td>0</td>\n",
       "      <td>0</td>\n",
       "      <td>0</td>\n",
       "      <td>0</td>\n",
       "      <td>0</td>\n",
       "      <td>0</td>\n",
       "      <td>0</td>\n",
       "      <td>...</td>\n",
       "      <td>0</td>\n",
       "      <td>0</td>\n",
       "      <td>0</td>\n",
       "      <td>0</td>\n",
       "      <td>0</td>\n",
       "      <td>0</td>\n",
       "      <td>0</td>\n",
       "      <td>0</td>\n",
       "      <td>0</td>\n",
       "      <td>0</td>\n",
       "    </tr>\n",
       "    <tr>\n",
       "      <th>61</th>\n",
       "      <td>0</td>\n",
       "      <td>0</td>\n",
       "      <td>0</td>\n",
       "      <td>0</td>\n",
       "      <td>0</td>\n",
       "      <td>0</td>\n",
       "      <td>0</td>\n",
       "      <td>0</td>\n",
       "      <td>0</td>\n",
       "      <td>0</td>\n",
       "      <td>...</td>\n",
       "      <td>0</td>\n",
       "      <td>0</td>\n",
       "      <td>0</td>\n",
       "      <td>0</td>\n",
       "      <td>0</td>\n",
       "      <td>0</td>\n",
       "      <td>0</td>\n",
       "      <td>0</td>\n",
       "      <td>0</td>\n",
       "      <td>0</td>\n",
       "    </tr>\n",
       "  </tbody>\n",
       "</table>\n",
       "<p>5 rows × 28978 columns</p>\n",
       "</div>"
      ],
      "text/plain": [
       "userId   7        79       199      481      769      906      1310     \\\n",
       "movieId                                                                  \n",
       "8              5        0        0        0        0        0        0   \n",
       "28             4        0        0        0        0        3        3   \n",
       "43             0        0        0        0        0        0        0   \n",
       "48             0        0        0        0        0        0        0   \n",
       "61             0        0        0        0        0        0        0   \n",
       "\n",
       "userId   1333     1427     1442     ...  2648572  2648589  2648730  2648734  \\\n",
       "movieId                             ...                                       \n",
       "8              3        0        0  ...        0        0        0        0   \n",
       "28             2        0        4  ...        0        3        4        0   \n",
       "43             0        0        0  ...        0        0        0        0   \n",
       "48             0        0        0  ...        0        0        0        0   \n",
       "61             0        0        0  ...        0        0        0        0   \n",
       "\n",
       "userId   2648853  2648869  2648885  2649120  2649267  2649285  \n",
       "movieId                                                        \n",
       "8              0        0        0        0        0        0  \n",
       "28             2        0        4        0        0        4  \n",
       "43             0        0        0        0        0        0  \n",
       "48             0        0        0        0        0        0  \n",
       "61             0        0        0        0        0        0  \n",
       "\n",
       "[5 rows x 28978 columns]"
      ]
     },
     "execution_count": 157,
     "metadata": {},
     "output_type": "execute_result"
    }
   ],
   "source": [
    "movieUserRating.fillna(0, inplace = True)\n",
    "\n",
    "movieUserRating = movieUserRating.astype(np.int32)\n",
    "\n",
    "movieUserRating.head()"
   ]
  },
  {
   "cell_type": "code",
   "execution_count": 158,
   "metadata": {},
   "outputs": [
    {
     "name": "stdout",
     "output_type": "stream",
     "text": [
      "4.071815611748076\n"
     ]
    }
   ],
   "source": [
    "movie6971= list(movieUserRating.loc[6971])\n",
    "\n",
    "avg6971= average(movie6971)\n",
    "\n",
    "print(avg6971)"
   ]
  },
  {
   "cell_type": "code",
   "execution_count": 159,
   "metadata": {},
   "outputs": [
    {
     "name": "stdout",
     "output_type": "stream",
     "text": [
      "4.047438894792774\n"
     ]
    }
   ],
   "source": [
    "\n",
    "movie4640= list(movieUserRating.loc[4640])\n",
    "\n",
    "avg4640 = average(movie4640)\n",
    "\n",
    "print(avg4640)"
   ]
  },
  {
   "cell_type": "code",
   "execution_count": 160,
   "metadata": {},
   "outputs": [
    {
     "name": "stdout",
     "output_type": "stream",
     "text": [
      "3.7261099495756977\n"
     ]
    }
   ],
   "source": [
    "\n",
    "movie6287= list(movieUserRating.loc[6287])\n",
    "\n",
    "avg6287= average(movie6287)\n",
    "\n",
    "print(avg6287)"
   ]
  },
  {
   "cell_type": "code",
   "execution_count": 161,
   "metadata": {},
   "outputs": [
    {
     "name": "stdout",
     "output_type": "stream",
     "text": [
      "3.8246204278812974\n"
     ]
    }
   ],
   "source": [
    "\n",
    "movie9728  = list(movieUserRating.loc[9728])\n",
    "\n",
    "avg9728= average(movie9728)\n",
    "\n",
    "print(avg9728)"
   ]
  },
  {
   "cell_type": "code",
   "execution_count": 162,
   "metadata": {},
   "outputs": [
    {
     "name": "stdout",
     "output_type": "stream",
     "text": [
      "3.9663373050469826\n"
     ]
    }
   ],
   "source": [
    "8915\n",
    "movie8915 = list(movieUserRating.loc[8915])\n",
    "\n",
    "avg8915 = average(movie8915)\n",
    "\n",
    "print(avg8915)"
   ]
  },
  {
   "cell_type": "code",
   "execution_count": 163,
   "metadata": {},
   "outputs": [
    {
     "name": "stdout",
     "output_type": "stream",
     "text": [
      "3.6721471305118545\n"
     ]
    }
   ],
   "source": [
    "#4432\n",
    "movie4432= list(movieUserRating.loc[4432])\n",
    "\n",
    "avg4432 = average(movie4432)\n",
    "\n",
    "print(avg4432)"
   ]
  },
  {
   "cell_type": "code",
   "execution_count": 164,
   "metadata": {},
   "outputs": [
    {
     "name": "stdout",
     "output_type": "stream",
     "text": [
      "4.103368832862421\n"
     ]
    }
   ],
   "source": [
    "#8596\n",
    "movie8596= list(movieUserRating.loc[8596])\n",
    "\n",
    "avg8596 = average(movie8596)\n",
    "\n",
    "print(avg8596)"
   ]
  },
  {
   "cell_type": "code",
   "execution_count": 165,
   "metadata": {},
   "outputs": [
    {
     "name": "stdout",
     "output_type": "stream",
     "text": [
      "3.8013020096235492\n"
     ]
    }
   ],
   "source": [
    "#6408\n",
    "movie6408= list(movieUserRating.loc[6408])\n",
    "\n",
    "avg6408 = average(movie6408)\n",
    "\n",
    "print(avg6408)"
   ]
  },
  {
   "cell_type": "code",
   "execution_count": 166,
   "metadata": {},
   "outputs": [
    {
     "name": "stdout",
     "output_type": "stream",
     "text": [
      "3.2807910426057876\n"
     ]
    }
   ],
   "source": [
    "\n",
    "movie1406= list(movieUserRating.loc[1406])\n",
    "\n",
    "avg1406 = average(movie1406)\n",
    "\n",
    "print(avg1406)"
   ]
  },
  {
   "cell_type": "code",
   "execution_count": 167,
   "metadata": {},
   "outputs": [
    {
     "name": "stdout",
     "output_type": "stream",
     "text": [
      "3.802730883813307\n"
     ]
    }
   ],
   "source": [
    "movie1744= list(movieUserRating.loc[1744])\n",
    "\n",
    "avg1744 = average(movie1744)\n",
    "\n",
    "print(avg1744)"
   ]
  },
  {
   "cell_type": "code",
   "execution_count": 168,
   "metadata": {},
   "outputs": [
    {
     "name": "stdout",
     "output_type": "stream",
     "text": [
      "ESTIMATED AVERAGE OVERLAP OF USERS FOR ITEMS :  3.8296662088461746\n"
     ]
    }
   ],
   "source": [
    "\n",
    "ESTIMATED_AVERAGE_USER_ITEMS = avg6971+avg4640+avg6287+avg9728+avg8915+avg1744+avg1406+avg6408+avg8596+avg4432\n",
    "\n",
    "print(\"ESTIMATED AVERAGE OVERLAP OF USERS FOR ITEMS : \",ESTIMATED_AVERAGE_USER_ITEMS/10)"
   ]
  },
  {
   "cell_type": "markdown",
   "metadata": {},
   "source": [
    "### ESTIMATED AVERAGE OVERLAP OF USERS FOR ITEMS :  3.8296662088461746"
   ]
  },
  {
   "cell_type": "code",
   "execution_count": null,
   "metadata": {},
   "outputs": [],
   "source": []
  },
  {
   "cell_type": "code",
   "execution_count": null,
   "metadata": {},
   "outputs": [],
   "source": []
  },
  {
   "cell_type": "markdown",
   "metadata": {},
   "source": [
    "# ALS Model Approach"
   ]
  },
  {
   "cell_type": "code",
   "execution_count": 169,
   "metadata": {},
   "outputs": [],
   "source": [
    "from pyspark.ml.evaluation import RegressionEvaluator\n",
    "from pyspark.ml.recommendation import ALS\n",
    "from pyspark.sql import Row"
   ]
  },
  {
   "cell_type": "code",
   "execution_count": 170,
   "metadata": {},
   "outputs": [],
   "source": [
    "#Joining the actual dataframes with movie dataframe for accurate understandings\n",
    "\n",
    "df_training_join = df_training.join(df_movies,on=['movieId'],how='inner')\n",
    "\n",
    "df_testing_join = df_testing.join(df_movies,on=['movieId'],how='inner')"
   ]
  },
  {
   "cell_type": "markdown",
   "metadata": {},
   "source": [
    "### Approach 1, maxIter = 5 , regParam = 0.08"
   ]
  },
  {
   "cell_type": "code",
   "execution_count": 171,
   "metadata": {},
   "outputs": [
    {
     "name": "stdout",
     "output_type": "stream",
     "text": [
      "Mean squared error = 0.7622417455545198\n",
      "Root-mean-square error = 0.8730645712400199\n"
     ]
    }
   ],
   "source": [
    "als = ALS(maxIter=5, regParam=0.08, userCol=\"userId\", itemCol=\"movieId\", ratingCol=\"ratings\",\n",
    "          coldStartStrategy=\"drop\")\n",
    "model1 = als.fit(df_training_join)\n",
    "\n",
    "\n",
    "\n",
    "# Evaluate the model by computing the RMSE on the test data\n",
    "predictions1 = model1.transform(df_testing_join)\n",
    "evaluator = RegressionEvaluator(metricName=\"mse\", labelCol=\"ratings\",\n",
    "                                predictionCol=\"prediction\")\n",
    "                                            \n",
    "evaluator1 = RegressionEvaluator(metricName=\"rmse\", labelCol=\"ratings\",\n",
    "                                predictionCol=\"prediction\")\n",
    "\n",
    "\n",
    "\n",
    "rmse = evaluator1.evaluate(predictions1)\n",
    "mse = evaluator.evaluate(predictions1)\n",
    "\n",
    "print(\"Mean squared error = \" + str(mse))\n",
    "print(\"Root-mean-square error = \" + str(rmse))"
   ]
  },
  {
   "cell_type": "markdown",
   "metadata": {},
   "source": [
    "### With the parameters maxIter = 5 , regParam = 0.08, Root-mean-square error is 0.860 and Mean squared error is 0.739"
   ]
  },
  {
   "cell_type": "code",
   "execution_count": 176,
   "metadata": {},
   "outputs": [
    {
     "name": "stdout",
     "output_type": "stream",
     "text": [
      "Following are the predictions results for the approach 1 model. \n",
      "\n",
      "+-------+-------+-------+-------------+--------------------+----------+\n",
      "|movieId| userId|ratings|yearOfRelease|               title|prediction|\n",
      "+-------+-------+-------+-------------+--------------------+----------+\n",
      "|      8| 573364|    1.0|         2004|What the #$*! Do ...|  2.808439|\n",
      "|      8|2149668|    3.0|         2004|What the #$*! Do ...|   2.95522|\n",
      "|      8|1089184|    3.0|         2004|What the #$*! Do ...| 1.9884332|\n",
      "|      8|2465894|    3.0|         2004|What the #$*! Do ...|   2.01401|\n",
      "|      8| 534508|    1.0|         2004|What the #$*! Do ...| 2.8113463|\n",
      "|      8| 992921|    4.0|         2004|What the #$*! Do ...| 2.6006048|\n",
      "|      8| 595054|    4.0|         2004|What the #$*! Do ...| 2.7244895|\n",
      "|      8|1298304|    4.0|         2004|What the #$*! Do ...| 3.7037585|\n",
      "|      8|1661600|    4.0|         2004|What the #$*! Do ...| 3.2884686|\n",
      "|      8| 553787|    2.0|         2004|What the #$*! Do ...|  2.779989|\n",
      "|      8|1309839|    3.0|         2004|What the #$*! Do ...| 2.4417677|\n",
      "|      8| 727242|    1.0|         2004|What the #$*! Do ...| 1.0505415|\n",
      "|      8|1437668|    4.0|         2004|What the #$*! Do ...| 2.5200171|\n",
      "|      8|2170930|    1.0|         2004|What the #$*! Do ...|0.87613845|\n",
      "|      8|1780876|    5.0|         2004|What the #$*! Do ...| 3.4471679|\n",
      "|      8|   9660|    3.0|         2004|What the #$*! Do ...| 2.3771422|\n",
      "|      8|2379200|    4.0|         2004|What the #$*! Do ...|  2.559775|\n",
      "|      8| 563186|    5.0|         2004|What the #$*! Do ...|  2.668769|\n",
      "|      8|1539617|    4.0|         2004|What the #$*! Do ...| 2.6619112|\n",
      "|      8|1656839|    1.0|         2004|What the #$*! Do ...| 2.3877096|\n",
      "+-------+-------+-------+-------------+--------------------+----------+\n",
      "only showing top 20 rows\n",
      "\n"
     ]
    }
   ],
   "source": [
    "print(\"Following are the predictions results for the approach 1 model. \\n\")\n",
    "\n",
    "predictions1.show()"
   ]
  },
  {
   "cell_type": "code",
   "execution_count": 177,
   "metadata": {},
   "outputs": [],
   "source": [
    "userRecs = model1.recommendForAllUsers(10)\n",
    "\n",
    "movieRecs = model1.recommendForAllItems(10)"
   ]
  },
  {
   "cell_type": "code",
   "execution_count": 178,
   "metadata": {},
   "outputs": [
    {
     "data": {
      "text/html": [
       "<div>\n",
       "<style scoped>\n",
       "    .dataframe tbody tr th:only-of-type {\n",
       "        vertical-align: middle;\n",
       "    }\n",
       "\n",
       "    .dataframe tbody tr th {\n",
       "        vertical-align: top;\n",
       "    }\n",
       "\n",
       "    .dataframe thead th {\n",
       "        text-align: right;\n",
       "    }\n",
       "</style>\n",
       "<table border=\"1\" class=\"dataframe\">\n",
       "  <thead>\n",
       "    <tr style=\"text-align: right;\">\n",
       "      <th></th>\n",
       "      <th>userId</th>\n",
       "      <th>recommendations</th>\n",
       "    </tr>\n",
       "  </thead>\n",
       "  <tbody>\n",
       "    <tr>\n",
       "      <th>0</th>\n",
       "      <td>481</td>\n",
       "      <td>[(14648, 4.8505401611328125), (7569, 4.8420782...</td>\n",
       "    </tr>\n",
       "    <tr>\n",
       "      <th>1</th>\n",
       "      <td>2678</td>\n",
       "      <td>[(6991, 4.134357929229736), (7569, 4.114245891...</td>\n",
       "    </tr>\n",
       "    <tr>\n",
       "      <th>2</th>\n",
       "      <td>3595</td>\n",
       "      <td>[(12293, 4.304803848266602), (3290, 4.16258287...</td>\n",
       "    </tr>\n",
       "    <tr>\n",
       "      <th>3</th>\n",
       "      <td>6460</td>\n",
       "      <td>[(12232, 4.4317169189453125), (12293, 4.231027...</td>\n",
       "    </tr>\n",
       "    <tr>\n",
       "      <th>4</th>\n",
       "      <td>7284</td>\n",
       "      <td>[(6991, 5.153048515319824), (8933, 5.116566658...</td>\n",
       "    </tr>\n",
       "  </tbody>\n",
       "</table>\n",
       "</div>"
      ],
      "text/plain": [
       "   userId                                    recommendations\n",
       "0     481  [(14648, 4.8505401611328125), (7569, 4.8420782...\n",
       "1    2678  [(6991, 4.134357929229736), (7569, 4.114245891...\n",
       "2    3595  [(12293, 4.304803848266602), (3290, 4.16258287...\n",
       "3    6460  [(12232, 4.4317169189453125), (12293, 4.231027...\n",
       "4    7284  [(6991, 5.153048515319824), (8933, 5.116566658..."
      ]
     },
     "execution_count": 178,
     "metadata": {},
     "output_type": "execute_result"
    }
   ],
   "source": [
    "#Recommendations for all users from model1 approach\n",
    "\n",
    "pd_userRecs = userRecs.toPandas()\n",
    "\n",
    "pd_userRecs.head()"
   ]
  },
  {
   "cell_type": "code",
   "execution_count": 175,
   "metadata": {},
   "outputs": [
    {
     "data": {
      "text/html": [
       "<div>\n",
       "<style scoped>\n",
       "    .dataframe tbody tr th:only-of-type {\n",
       "        vertical-align: middle;\n",
       "    }\n",
       "\n",
       "    .dataframe tbody tr th {\n",
       "        vertical-align: top;\n",
       "    }\n",
       "\n",
       "    .dataframe thead th {\n",
       "        text-align: right;\n",
       "    }\n",
       "</style>\n",
       "<table border=\"1\" class=\"dataframe\">\n",
       "  <thead>\n",
       "    <tr style=\"text-align: right;\">\n",
       "      <th></th>\n",
       "      <th>movieId</th>\n",
       "      <th>recommendations</th>\n",
       "    </tr>\n",
       "  </thead>\n",
       "  <tbody>\n",
       "    <tr>\n",
       "      <th>0</th>\n",
       "      <td>4190</td>\n",
       "      <td>[(300908, 4.489530563354492), (1486829, 4.3192...</td>\n",
       "    </tr>\n",
       "    <tr>\n",
       "      <th>1</th>\n",
       "      <td>3220</td>\n",
       "      <td>[(1080361, 4.988464832305908), (1596531, 4.928...</td>\n",
       "    </tr>\n",
       "    <tr>\n",
       "      <th>2</th>\n",
       "      <td>11240</td>\n",
       "      <td>[(794999, 5.105077266693115), (27061, 5.077645...</td>\n",
       "    </tr>\n",
       "    <tr>\n",
       "      <th>3</th>\n",
       "      <td>6110</td>\n",
       "      <td>[(1663569, 4.814904689788818), (794999, 4.8123...</td>\n",
       "    </tr>\n",
       "    <tr>\n",
       "      <th>4</th>\n",
       "      <td>8260</td>\n",
       "      <td>[(507082, 3.9599781036376953), (1890819, 3.942...</td>\n",
       "    </tr>\n",
       "  </tbody>\n",
       "</table>\n",
       "</div>"
      ],
      "text/plain": [
       "   movieId                                    recommendations\n",
       "0     4190  [(300908, 4.489530563354492), (1486829, 4.3192...\n",
       "1     3220  [(1080361, 4.988464832305908), (1596531, 4.928...\n",
       "2    11240  [(794999, 5.105077266693115), (27061, 5.077645...\n",
       "3     6110  [(1663569, 4.814904689788818), (794999, 4.8123...\n",
       "4     8260  [(507082, 3.9599781036376953), (1890819, 3.942..."
      ]
     },
     "execution_count": 175,
     "metadata": {},
     "output_type": "execute_result"
    }
   ],
   "source": [
    "#Movie Recommendations for all users from model1 approach\n",
    "\n",
    "pd_movieRecs = movieRecs.toPandas()\n",
    "\n",
    "pd_movieRecs.head()"
   ]
  },
  {
   "cell_type": "markdown",
   "metadata": {},
   "source": [
    "### Approach 2, maxIter = 10 , regParam = 0.01"
   ]
  },
  {
   "cell_type": "code",
   "execution_count": 179,
   "metadata": {},
   "outputs": [
    {
     "name": "stdout",
     "output_type": "stream",
     "text": [
      "Mean squared error = 0.7084090743120849\n",
      "Root-mean-square error = 0.8416704071737848\n"
     ]
    }
   ],
   "source": [
    "als = ALS(maxIter=10, regParam=0.01, userCol=\"userId\", itemCol=\"movieId\", ratingCol=\"ratings\",\n",
    "          coldStartStrategy=\"drop\")\n",
    "model2 = als.fit(df_training_join)\n",
    "\n",
    "\n",
    "\n",
    "# Evaluate the model by computing the RMSE on the test data\n",
    "predictions2 = model2.transform(df_testing_join)\n",
    "evaluator = RegressionEvaluator(metricName=\"mse\", labelCol=\"ratings\",\n",
    "                                predictionCol=\"prediction\")\n",
    "                                            \n",
    "evaluator1 = RegressionEvaluator(metricName=\"rmse\", labelCol=\"ratings\",\n",
    "                                predictionCol=\"prediction\")\n",
    "\n",
    "\n",
    "\n",
    "rmse = evaluator1.evaluate(predictions2)\n",
    "mse = evaluator.evaluate(predictions2)\n",
    "\n",
    "print(\"Mean squared error = \" + str(mse))\n",
    "print(\"Root-mean-square error = \" + str(rmse))"
   ]
  },
  {
   "cell_type": "markdown",
   "metadata": {},
   "source": [
    "### With the parameters maxIter = 10 , regParam = 0.01, Root-mean-square error is 0.84 and Mean squared error is 0.70"
   ]
  },
  {
   "cell_type": "code",
   "execution_count": 180,
   "metadata": {},
   "outputs": [
    {
     "name": "stdout",
     "output_type": "stream",
     "text": [
      "+-------+-------+-------+-------------+--------------------+----------+\n",
      "|movieId| userId|ratings|yearOfRelease|               title|prediction|\n",
      "+-------+-------+-------+-------------+--------------------+----------+\n",
      "|      8| 573364|    1.0|         2004|What the #$*! Do ...| 2.4632375|\n",
      "|      8|2149668|    3.0|         2004|What the #$*! Do ...| 2.5270288|\n",
      "|      8|1089184|    3.0|         2004|What the #$*! Do ...| 1.5026662|\n",
      "|      8|2465894|    3.0|         2004|What the #$*! Do ...| 1.0114069|\n",
      "|      8| 534508|    1.0|         2004|What the #$*! Do ...| 2.9000576|\n",
      "|      8| 992921|    4.0|         2004|What the #$*! Do ...|  2.957749|\n",
      "|      8| 595054|    4.0|         2004|What the #$*! Do ...| 2.9656339|\n",
      "|      8|1298304|    4.0|         2004|What the #$*! Do ...| 4.6261888|\n",
      "|      8|1661600|    4.0|         2004|What the #$*! Do ...|  4.068904|\n",
      "|      8| 553787|    2.0|         2004|What the #$*! Do ...| 2.8306088|\n",
      "|      8|1309839|    3.0|         2004|What the #$*! Do ...| 2.1902838|\n",
      "|      8| 727242|    1.0|         2004|What the #$*! Do ...| 1.0160645|\n",
      "|      8|1437668|    4.0|         2004|What the #$*! Do ...| 2.8143485|\n",
      "|      8|2170930|    1.0|         2004|What the #$*! Do ...| 0.9377016|\n",
      "|      8|1780876|    5.0|         2004|What the #$*! Do ...| 4.1630964|\n",
      "|      8|   9660|    3.0|         2004|What the #$*! Do ...| 1.4695883|\n",
      "|      8|2379200|    4.0|         2004|What the #$*! Do ...| 2.8132749|\n",
      "|      8| 563186|    5.0|         2004|What the #$*! Do ...| 2.0421107|\n",
      "|      8|1539617|    4.0|         2004|What the #$*! Do ...|  2.384722|\n",
      "|      8|1656839|    1.0|         2004|What the #$*! Do ...| 2.0869389|\n",
      "+-------+-------+-------+-------------+--------------------+----------+\n",
      "only showing top 20 rows\n",
      "\n"
     ]
    }
   ],
   "source": [
    "predictions2.show()"
   ]
  },
  {
   "cell_type": "code",
   "execution_count": 181,
   "metadata": {},
   "outputs": [],
   "source": [
    "userRecs2 = model2.recommendForAllUsers(10)\n",
    "\n",
    "movieRecs2 = model2.recommendForAllItems(10)"
   ]
  },
  {
   "cell_type": "code",
   "execution_count": 182,
   "metadata": {},
   "outputs": [
    {
     "name": "stdout",
     "output_type": "stream",
     "text": [
      "+------+--------------------+\n",
      "|userId|     recommendations|\n",
      "+------+--------------------+\n",
      "|   481|[[15567, 6.077099...|\n",
      "|  2678|[[6991, 7.311792]...|\n",
      "|  3595|[[9854, 5.490034]...|\n",
      "|  6460|[[10025, 6.418989...|\n",
      "|  7284|[[6991, 10.731239...|\n",
      "|  7576|[[6406, 5.4165072...|\n",
      "|  9597|[[12952, 5.294409...|\n",
      "| 15191|[[6287, 4.957383]...|\n",
      "| 15846|[[10025, 5.053463...|\n",
      "| 20461|[[15809, 5.633242...|\n",
      "| 20774|[[7806, 4.467826]...|\n",
      "| 26258|[[6894, 4.8676343...|\n",
      "| 27608|[[6991, 6.3618126...|\n",
      "| 28346|[[1444, 4.7926564...|\n",
      "| 30941|[[6991, 6.070702]...|\n",
      "| 30976|[[3359, 7.116294]...|\n",
      "| 31203|[[5142, 6.3571777...|\n",
      "| 36822|[[3359, 6.7574663...|\n",
      "| 40851|[[9973, 5.586188]...|\n",
      "| 41068|[[9854, 5.0963683...|\n",
      "+------+--------------------+\n",
      "only showing top 20 rows\n",
      "\n"
     ]
    }
   ],
   "source": [
    "userRecs2.show()"
   ]
  },
  {
   "cell_type": "code",
   "execution_count": 183,
   "metadata": {},
   "outputs": [
    {
     "name": "stdout",
     "output_type": "stream",
     "text": [
      "+-------+--------------------+\n",
      "|movieId|     recommendations|\n",
      "+-------+--------------------+\n",
      "|   4190|[[396985, 10.5164...|\n",
      "|   3220|[[1080361, 5.9857...|\n",
      "|  11240|[[1839424, 6.5068...|\n",
      "|   6110|[[8135, 5.3616295...|\n",
      "|   8260|[[770230, 6.18032...|\n",
      "|    481|[[941786, 5.68070...|\n",
      "|   6911|[[685613, 5.18767...|\n",
      "|  11041|[[941786, 5.39375...|\n",
      "|  15841|[[685613, 5.21089...|\n",
      "|  15051|[[770230, 7.70414...|\n",
      "|   8851|[[1925991, 5.1384...|\n",
      "|   1061|[[602277, 5.62927...|\n",
      "|  16232|[[2567407, 5.0674...|\n",
      "|   9492|[[868600, 7.16008...|\n",
      "|    192|[[1468972, 6.0410...|\n",
      "|   9482|[[1060026, 6.1768...|\n",
      "|   6522|[[1851283, 8.8597...|\n",
      "|  10082|[[1360119, 5.1870...|\n",
      "|    122|[[1482568, 5.0187...|\n",
      "|  16283|[[2239984, 5.1503...|\n",
      "+-------+--------------------+\n",
      "only showing top 20 rows\n",
      "\n"
     ]
    }
   ],
   "source": [
    "movieRecs2.show()"
   ]
  },
  {
   "cell_type": "markdown",
   "metadata": {},
   "source": [
    "### From the above two model performances we can say the RMSE value is comparitively less when maxIter = 10 and regParam = 0.01. Hence this would be our best ALS model."
   ]
  },
  {
   "cell_type": "code",
   "execution_count": null,
   "metadata": {},
   "outputs": [],
   "source": []
  },
  {
   "cell_type": "markdown",
   "metadata": {},
   "source": [
    "## Creating a new user for testing purpose and adding self rated movie ratings to our dataset "
   ]
  },
  {
   "cell_type": "code",
   "execution_count": 184,
   "metadata": {},
   "outputs": [],
   "source": [
    "user = 's3://chaitratadagadsci/Netflix/myuser.txt'\n",
    "\n",
    "myUser_df_schema = StructType(\n",
    "  [StructField('movieId', IntegerType()),\n",
    "   StructField('userId', IntegerType()),\n",
    "   StructField('ratings', StringType())])"
   ]
  },
  {
   "cell_type": "code",
   "execution_count": 185,
   "metadata": {},
   "outputs": [
    {
     "name": "stdout",
     "output_type": "stream",
     "text": [
      "+-------+------+-------+\n",
      "|movieId|userId|ratings|\n",
      "+-------+------+-------+\n",
      "|      8|     1|    4.0|\n",
      "|     24|     1|    3.0|\n",
      "|     41|     1|    4.0|\n",
      "|     43|     1|    4.0|\n",
      "|     61|     1|    2.0|\n",
      "|     64|     1|    4.0|\n",
      "|     48|     1|    4.0|\n",
      "|     30|     1|    3.0|\n",
      "|     12|     1|    4.0|\n",
      "|     10|     1|    4.0|\n",
      "+-------+------+-------+\n",
      "\n"
     ]
    }
   ],
   "source": [
    "myUser_df = sqlContext.read.format('txt').options(inferSchema=True).schema(myUser_df_schema).csv(user)\n",
    "\n",
    "myUser_df.show()"
   ]
  },
  {
   "cell_type": "code",
   "execution_count": 186,
   "metadata": {},
   "outputs": [],
   "source": [
    "myUser_df = myUser_df.join(df_movies,on=['movieId'],how='inner')"
   ]
  },
  {
   "cell_type": "code",
   "execution_count": 187,
   "metadata": {},
   "outputs": [
    {
     "name": "stdout",
     "output_type": "stream",
     "text": [
      "+-------+------+-------+-------------+--------------------+\n",
      "|movieId|userId|ratings|yearOfRelease|               title|\n",
      "+-------+------+-------+-------------+--------------------+\n",
      "|      8|     1|    4.0|         2004|What the #$*! Do ...|\n",
      "|     10|     1|    4.0|         2001|             Fighter|\n",
      "|     12|     1|    4.0|         1947|My Favorite Brunette|\n",
      "|     24|     1|    3.0|         1981| My Bloody Valentine|\n",
      "|     30|     1|    3.0|         2003|Something's Gotta...|\n",
      "|     41|     1|    4.0|         2000|       Horror Vision|\n",
      "|     43|     1|    4.0|         2000|      Silent Service|\n",
      "|     48|     1|    4.0|         2001|      Justice League|\n",
      "|     61|     1|    2.0|         1999|Ricky Martin: One...|\n",
      "|     64|     1|    4.0|         2001|     Outside the Law|\n",
      "+-------+------+-------+-------------+--------------------+\n",
      "\n"
     ]
    }
   ],
   "source": [
    "myUser_df.show()"
   ]
  },
  {
   "cell_type": "code",
   "execution_count": 188,
   "metadata": {},
   "outputs": [],
   "source": [
    "df_training_union = df_training_join.union(myUser_df)\n",
    "\n",
    "df_testing_union = df_testing_join.union(myUser_df)"
   ]
  },
  {
   "cell_type": "code",
   "execution_count": 189,
   "metadata": {},
   "outputs": [
    {
     "name": "stdout",
     "output_type": "stream",
     "text": [
      "+-------+-------+-------+-------------+--------------------+\n",
      "|movieId| userId|ratings|yearOfRelease|               title|\n",
      "+-------+-------+-------+-------------+--------------------+\n",
      "|      8|1744889|    1.0|         2004|What the #$*! Do ...|\n",
      "|      8|1395430|    2.0|         2004|What the #$*! Do ...|\n",
      "|      8|1205593|    4.0|         2004|What the #$*! Do ...|\n",
      "|      8|1488844|    4.0|         2004|What the #$*! Do ...|\n",
      "|      8|1447354|    1.0|         2004|What the #$*! Do ...|\n",
      "|      8| 306466|    4.0|         2004|What the #$*! Do ...|\n",
      "|      8|1331154|    4.0|         2004|What the #$*! Do ...|\n",
      "|      8|1818178|    3.0|         2004|What the #$*! Do ...|\n",
      "|      8| 991725|    4.0|         2004|What the #$*! Do ...|\n",
      "|      8|1987434|    4.0|         2004|What the #$*! Do ...|\n",
      "|      8|1765381|    4.0|         2004|What the #$*! Do ...|\n",
      "|      8| 433803|    3.0|         2004|What the #$*! Do ...|\n",
      "|      8|1148143|    2.0|         2004|What the #$*! Do ...|\n",
      "|      8|1174811|    5.0|         2004|What the #$*! Do ...|\n",
      "|      8|1684516|    3.0|         2004|What the #$*! Do ...|\n",
      "|      8| 754781|    4.0|         2004|What the #$*! Do ...|\n",
      "|      8| 567025|    4.0|         2004|What the #$*! Do ...|\n",
      "|      8|1623132|    4.0|         2004|What the #$*! Do ...|\n",
      "|      8|1567095|    3.0|         2004|What the #$*! Do ...|\n",
      "|      8|1666394|    5.0|         2004|What the #$*! Do ...|\n",
      "+-------+-------+-------+-------------+--------------------+\n",
      "only showing top 20 rows\n",
      "\n"
     ]
    }
   ],
   "source": [
    "df_training_union.show()"
   ]
  },
  {
   "cell_type": "code",
   "execution_count": 190,
   "metadata": {},
   "outputs": [
    {
     "name": "stdout",
     "output_type": "stream",
     "text": [
      "+-------+------+-------+-------------+--------------------+\n",
      "|movieId|userId|ratings|yearOfRelease|               title|\n",
      "+-------+------+-------+-------------+--------------------+\n",
      "|      8|     1|    4.0|         2004|What the #$*! Do ...|\n",
      "|     10|     1|    4.0|         2001|             Fighter|\n",
      "|     12|     1|    4.0|         1947|My Favorite Brunette|\n",
      "|     24|     1|    3.0|         1981| My Bloody Valentine|\n",
      "|     30|     1|    3.0|         2003|Something's Gotta...|\n",
      "|     41|     1|    4.0|         2000|       Horror Vision|\n",
      "|     43|     1|    4.0|         2000|      Silent Service|\n",
      "|     48|     1|    4.0|         2001|      Justice League|\n",
      "|     61|     1|    2.0|         1999|Ricky Martin: One...|\n",
      "|     64|     1|    4.0|         2001|     Outside the Law|\n",
      "+-------+------+-------+-------------+--------------------+\n",
      "\n"
     ]
    }
   ],
   "source": [
    "UserID = 1\n",
    "self = df_training_union.filter(df_training_union.userId == UserID)\n",
    "self.show(30)"
   ]
  },
  {
   "cell_type": "code",
   "execution_count": null,
   "metadata": {},
   "outputs": [],
   "source": []
  }
 ],
 "metadata": {
  "kernelspec": {
   "display_name": "Python 3",
   "language": "python",
   "name": "python3"
  },
  "language_info": {
   "codemirror_mode": {
    "name": "ipython",
    "version": 3
   },
   "file_extension": ".py",
   "mimetype": "text/x-python",
   "name": "python",
   "nbconvert_exporter": "python",
   "pygments_lexer": "ipython3",
   "version": "3.7.9"
  }
 },
 "nbformat": 4,
 "nbformat_minor": 4
}
